{
 "cells": [
  {
   "cell_type": "markdown",
   "metadata": {
    "colab_type": "text",
    "id": "hmr2U-GChnlR"
   },
   "source": [
    "\n",
    "# **Assignment - 1 : Getting Started**\n",
    "\n",
    "---\n",
    "\n",
    "This assignment will get you familiarized with python libraries required for ***data science*** and ***machine learning***. You will have to complete the code snippets and run them. "
   ]
  },
  {
   "cell_type": "markdown",
   "metadata": {
    "colab_type": "text",
    "id": "211pD45xEO0u"
   },
   "source": [
    "## **Note :**   Use only the methods and attributes of the ```numpy``` library. **Do not** hard-code them. Avoid loops as much as possible."
   ]
  },
  {
   "cell_type": "markdown",
   "metadata": {
    "colab_type": "text",
    "id": "O7v9C4mun3SQ"
   },
   "source": [
    "---\n",
    "## Part - 1\n",
    " In this part, you will work with the library ```numpy```. \n",
    "\n",
    "\n"
   ]
  },
  {
   "cell_type": "markdown",
   "metadata": {
    "colab_type": "text",
    "id": "846yDaXQwiMD"
   },
   "source": [
    "Import ```numpy``` with an alias name ```np```. Initialize two arrays $a$, $b$ of size $3 \\times 5$ with random values and print them. "
   ]
  },
  {
   "cell_type": "code",
   "execution_count": 1,
   "metadata": {
    "ExecuteTime": {
     "end_time": "2020-04-17T05:41:40.456947Z",
     "start_time": "2020-04-17T05:41:36.033013Z"
    },
    "colab": {},
    "colab_type": "code",
    "id": "_MyeCO3_o3oq"
   },
   "outputs": [],
   "source": [
    "import numpy as np"
   ]
  },
  {
   "cell_type": "markdown",
   "metadata": {
    "colab_type": "text",
    "id": "p7jtpYT4wiO6"
   },
   "source": [
    "Initialize and print two arrays $c$ and $d$ having the following properties:\n",
    "*   $c$ is a row vector with all non-negative integer values less than 100\n",
    "* $d$ is a square matrix of size 3 having all entries as 0.0"
   ]
  },
  {
   "cell_type": "code",
   "execution_count": 59,
   "metadata": {
    "colab": {
     "base_uri": "https://localhost:8080/",
     "height": 151
    },
    "colab_type": "code",
    "executionInfo": {
     "elapsed": 2535,
     "status": "ok",
     "timestamp": 1587045499277,
     "user": {
      "displayName": "Bro John Mark",
      "photoUrl": "",
      "userId": "08019861679024111431"
     },
     "user_tz": -330
    },
    "id": "a2lJdRf8x9f2",
    "outputId": "30f14bfa-fabc-4f75-e670-3da0948a62a2"
   },
   "outputs": [
    {
     "name": "stdout",
     "output_type": "stream",
     "text": [
      "[24 21  6 17 95  7  1 19 39 84  4 12  6 55 82 19 69 88 17 51 95  2 30 97\n",
      " 38 91 39 22 61 50 93 93 68 76 65 21 13 49 76 10 74 20 38 20 39 99 24 67\n",
      "  6 50 65 49 86 67 97 59 19 84 66 24  3 41 33 22 37 51 24 23 91  6 63 66\n",
      " 89 82 40 73 52 61 54 91 70 60 71  8 35  8  8 12 88 74 28 42 90 31 37 19\n",
      " 83 25 36 50]\n",
      "[[0. 0. 0.]\n",
      " [0. 0. 0.]\n",
      " [0. 0. 0.]]\n"
     ]
    }
   ],
   "source": [
    "c = np.random.randint(1,100,100)\n",
    "d = np.zeros((3,3))\n",
    "print(c)\n",
    "print(d)"
   ]
  },
  {
   "cell_type": "markdown",
   "metadata": {
    "colab_type": "text",
    "id": "qqgtSsa88Zmh"
   },
   "source": [
    "We have $e$ as following : ```e = [[1,2,3],[4,5,6],[7,8,9]]```. Change $e$ as a numpy array and print it."
   ]
  },
  {
   "cell_type": "code",
   "execution_count": 61,
   "metadata": {
    "colab": {
     "base_uri": "https://localhost:8080/",
     "height": 84
    },
    "colab_type": "code",
    "executionInfo": {
     "elapsed": 2202,
     "status": "ok",
     "timestamp": 1587045563659,
     "user": {
      "displayName": "Bro John Mark",
      "photoUrl": "",
      "userId": "08019861679024111431"
     },
     "user_tz": -330
    },
    "id": "Krhm4bVE7RET",
    "outputId": "5a77c0ff-1ec8-4763-f888-8e3c7882c382"
   },
   "outputs": [
    {
     "name": "stdout",
     "output_type": "stream",
     "text": [
      "<class 'numpy.ndarray'>\n",
      "[[1 2 3]\n",
      " [4 5 6]\n",
      " [7 8 9]]\n"
     ]
    }
   ],
   "source": [
    "e = [[1,2,3],[4,5,6],[7,8,9]]\n",
    "e = np.array(e)\n",
    "print(type(e))\n",
    "print(e)"
   ]
  },
  {
   "cell_type": "markdown",
   "metadata": {
    "colab_type": "text",
    "id": "1qTikI0foam9"
   },
   "source": [
    "$f$ and $g$ are two square matrices of size 5 such that all the entries of $f$ are 1 and $g$ is an identity matrix. Initialize them and print them"
   ]
  },
  {
   "cell_type": "code",
   "execution_count": 62,
   "metadata": {
    "colab": {
     "base_uri": "https://localhost:8080/",
     "height": 185
    },
    "colab_type": "code",
    "executionInfo": {
     "elapsed": 7426,
     "status": "ok",
     "timestamp": 1587045625884,
     "user": {
      "displayName": "Bro John Mark",
      "photoUrl": "",
      "userId": "08019861679024111431"
     },
     "user_tz": -330
    },
    "id": "DvaLckI49aBV",
    "outputId": "a4cbde00-4065-4c6a-cdff-3cd79d9aef4f"
   },
   "outputs": [
    {
     "name": "stdout",
     "output_type": "stream",
     "text": [
      "[[1. 1. 1. 1. 1.]\n",
      " [1. 1. 1. 1. 1.]\n",
      " [1. 1. 1. 1. 1.]\n",
      " [1. 1. 1. 1. 1.]\n",
      " [1. 1. 1. 1. 1.]]\n",
      "[[1. 0. 0. 0. 0.]\n",
      " [0. 1. 0. 0. 0.]\n",
      " [0. 0. 1. 0. 0.]\n",
      " [0. 0. 0. 1. 0.]\n",
      " [0. 0. 0. 0. 1.]]\n"
     ]
    }
   ],
   "source": [
    "f = np.ones((5,5))\n",
    "g = np.identity(5)\n",
    "print(f)\n",
    "print(g)"
   ]
  },
  {
   "cell_type": "markdown",
   "metadata": {
    "colab_type": "text",
    "id": "gcBZAZibAKcg"
   },
   "source": [
    "Reshape $c$ into a $10 \\times 10$ matrix and name it $h$. Now flatten $h$, call it $c^\\prime$ and print **YES** when the shapes of $c$ and $c^\\prime$ are same. Otherwise print **NO**."
   ]
  },
  {
   "cell_type": "code",
   "execution_count": 0,
   "metadata": {
    "colab": {},
    "colab_type": "code",
    "id": "I71vtO9bA9Pi"
   },
   "outputs": [],
   "source": [
    "h = c.reshape(10,10)\n",
    "cdash = h.flatten()"
   ]
  },
  {
   "cell_type": "code",
   "execution_count": 72,
   "metadata": {
    "colab": {
     "base_uri": "https://localhost:8080/",
     "height": 34
    },
    "colab_type": "code",
    "executionInfo": {
     "elapsed": 1682,
     "status": "ok",
     "timestamp": 1587045921968,
     "user": {
      "displayName": "Bro John Mark",
      "photoUrl": "",
      "userId": "08019861679024111431"
     },
     "user_tz": -330
    },
    "id": "bzVtrRIATBTB",
    "outputId": "f7b61cb5-c737-42d8-a7c4-c495514e7fc0"
   },
   "outputs": [
    {
     "data": {
      "text/plain": [
       "'No'"
      ]
     },
     "execution_count": 72,
     "metadata": {
      "tags": []
     },
     "output_type": "execute_result"
    }
   ],
   "source": [
    "yn = bool(np.shape(h) == np.shape(cdash))\n",
    "x = lambda x : 'Yes' if x == True else \"No\"\n",
    "x(yn)"
   ]
  },
  {
   "cell_type": "markdown",
   "metadata": {
    "colab_type": "text",
    "id": "8FrecDPiA-Bv"
   },
   "source": [
    "Let $A$ denote a randomly initialized three dimensional matrix of shape (2,10,5). Transpose $A$, call it $A^\\prime$, such that its shape is (5,2,10) and print it."
   ]
  },
  {
   "cell_type": "code",
   "execution_count": 3,
   "metadata": {
    "ExecuteTime": {
     "end_time": "2020-04-16T17:40:18.649109Z",
     "start_time": "2020-04-16T17:40:18.538282Z"
    },
    "colab": {
     "base_uri": "https://localhost:8080/",
     "height": 34
    },
    "colab_type": "code",
    "executionInfo": {
     "elapsed": 1316,
     "status": "ok",
     "timestamp": 1587045968155,
     "user": {
      "displayName": "Bro John Mark",
      "photoUrl": "",
      "userId": "08019861679024111431"
     },
     "user_tz": -330
    },
    "id": "VbOKqSm6Bkaq",
    "outputId": "7ad745a6-4164-449b-ed3e-cca478ea4172"
   },
   "outputs": [
    {
     "data": {
      "text/plain": [
       "(2, 10, 5)"
      ]
     },
     "execution_count": 3,
     "metadata": {},
     "output_type": "execute_result"
    }
   ],
   "source": [
    "A = np.random.rand(2,10,5)\n",
    "type(A);np.shape(A)"
   ]
  },
  {
   "cell_type": "code",
   "execution_count": 20,
   "metadata": {
    "ExecuteTime": {
     "end_time": "2020-04-16T17:57:09.781057Z",
     "start_time": "2020-04-16T17:57:09.669055Z"
    }
   },
   "outputs": [
    {
     "name": "stdout",
     "output_type": "stream",
     "text": [
      "[[[0.25632356 0.62424955 0.17003947 0.57269854 0.07330854 0.95552057\n",
      "   0.37321799 0.72956417 0.79791107 0.60369397]\n",
      "  [0.80295669 0.48885102 0.64524563 0.65720107 0.42345005 0.10688081\n",
      "   0.64335367 0.6573282  0.15080282 0.08336431]]\n",
      "\n",
      " [[0.9817216  0.22447908 0.62228229 0.35596263 0.83463655 0.20341156\n",
      "   0.73202517 0.81344682 0.25857573 0.08238927]\n",
      "  [0.33588377 0.27398995 0.72621989 0.9777173  0.90952117 0.23984653\n",
      "   0.77014925 0.35910441 0.81199821 0.0160184 ]]\n",
      "\n",
      " [[0.75393186 0.36383291 0.37920064 0.18601637 0.88512057 0.53501175\n",
      "   0.68367224 0.24118387 0.96429802 0.24948997]\n",
      "  [0.77189347 0.64672878 0.06390342 0.41506595 0.74776947 0.086137\n",
      "   0.53130075 0.21640872 0.76785888 0.15559836]]\n",
      "\n",
      " [[0.21585349 0.33993558 0.99456081 0.31860534 0.82236094 0.74453472\n",
      "   0.17549225 0.99010346 0.04398239 0.15136151]\n",
      "  [0.11257582 0.44481705 0.30468229 0.67211142 0.0521678  0.54906682\n",
      "   0.7917553  0.43183617 0.11001343 0.36654843]]\n",
      "\n",
      " [[0.16430055 0.30453067 0.06225817 0.0175748  0.03889635 0.71392806\n",
      "   0.14033332 0.75969606 0.84723768 0.31758724]\n",
      "  [0.5455802  0.03348162 0.74085011 0.67641765 0.5470242  0.57949024\n",
      "   0.39402916 0.87496299 0.37789511 0.20374105]]]\n"
     ]
    }
   ],
   "source": [
    "Ad = np.transpose(A,(2,0,1))\n",
    "np.shape(Ad)\n",
    "print(Ad)"
   ]
  },
  {
   "cell_type": "markdown",
   "metadata": {
    "colab_type": "text",
    "id": "xR2zd-nkCani"
   },
   "source": [
    "You have a matrix $X$ of size (10,5) filled with random values. Print the following :\n",
    "* Minimum value and index where it occured, for each column\n",
    "* Maximum value and the index where it occured, for each column\n",
    "* Minimum value and index where it occured, for each row\n",
    "* Maximum value and index where it occured, for each row\n",
    "* Minimum value and index where it occured, for the entire matrix\n",
    "* Maximum value and index where it occured, for the entire matrix"
   ]
  },
  {
   "cell_type": "code",
   "execution_count": 3,
   "metadata": {
    "ExecuteTime": {
     "end_time": "2020-04-17T05:41:47.165336Z",
     "start_time": "2020-04-17T05:41:46.973162Z"
    },
    "colab": {},
    "colab_type": "code",
    "id": "FR2Wd4fWD_Og"
   },
   "outputs": [
    {
     "data": {
      "text/plain": [
       "array([[45, 48, 65, 68, 68],\n",
       "       [10, 84, 22, 37, 88],\n",
       "       [71, 89, 89, 13, 59],\n",
       "       [66, 40, 88, 47, 89],\n",
       "       [82, 38, 26, 78, 73],\n",
       "       [10, 21, 81, 70, 80],\n",
       "       [48, 65, 83, 89, 50],\n",
       "       [30, 20, 20, 15, 40],\n",
       "       [33, 66, 10, 58, 33],\n",
       "       [32, 75, 24, 36, 76]])"
      ]
     },
     "execution_count": 3,
     "metadata": {},
     "output_type": "execute_result"
    }
   ],
   "source": [
    "np.random.seed(0)\n",
    "X = np.random.randint(1,100,(10,5))\n",
    "X"
   ]
  },
  {
   "cell_type": "code",
   "execution_count": 7,
   "metadata": {
    "ExecuteTime": {
     "end_time": "2020-04-17T05:42:25.791178Z",
     "start_time": "2020-04-17T05:42:25.782201Z"
    }
   },
   "outputs": [
    {
     "data": {
      "text/plain": [
       "array([10, 20, 10, 13, 33])"
      ]
     },
     "execution_count": 7,
     "metadata": {},
     "output_type": "execute_result"
    }
   ],
   "source": [
    "#minimum value in each column\n",
    "minc = np.amin(X,axis=0)\n",
    "minc"
   ]
  },
  {
   "cell_type": "markdown",
   "metadata": {
    "colab_type": "text",
    "id": "YpjW2ypkEGtS"
   },
   "source": [
    "Find and print the following for the matrix X: \n",
    "* Mean of each row and column\n",
    "* Standard deviation of each row and column\n",
    "* Mean of the entire matrix\n",
    "* Standard deviation of entire matrix"
   ]
  },
  {
   "cell_type": "code",
   "execution_count": 14,
   "metadata": {
    "ExecuteTime": {
     "end_time": "2020-04-17T05:47:17.956933Z",
     "start_time": "2020-04-17T05:47:17.918963Z"
    }
   },
   "outputs": [
    {
     "name": "stdout",
     "output_type": "stream",
     "text": [
      "Mean of the row 0 is 58.8\n",
      "Std of the row 0 is 10.146920715172659\n",
      "Mean of the row 1 is 48.2\n",
      "Std of the row 1 is 32.05245700410501\n",
      "Mean of the row 2 is 64.2\n",
      "Std of the row 2 is 28.017137612539937\n",
      "Mean of the row 3 is 66.0\n",
      "Std of the row 3 is 20.248456731316587\n",
      "Mean of the row 4 is 59.4\n",
      "Std of the row 4 is 22.87006777427649\n",
      "Mean of the row 5 is 52.4\n",
      "Std of the row 5 is 30.571882506643256\n",
      "Mean of the row 6 is 67.0\n",
      "Std of the row 6 is 16.69730517179344\n",
      "Mean of the row 7 is 25.0\n",
      "Std of the row 7 is 8.94427190999916\n",
      "Mean of the row 8 is 40.0\n",
      "Std of the row 8 is 19.98999749874922\n",
      "Mean of the row 9 is 48.6\n",
      "Std of the row 9 is 22.303362975121036\n",
      "******************************\n",
      "Mean of the column 0 is 58.8\n",
      "Std of the column 0 is 10.146920715172659\n",
      "Mean of the column 1 is 48.2\n",
      "Std of the column 1 is 32.05245700410501\n",
      "Mean of the column 2 is 64.2\n",
      "Std of the column 2 is 28.017137612539937\n",
      "Mean of the column 3 is 66.0\n",
      "Std of the column 3 is 20.248456731316587\n",
      "Mean of the column 4 is 59.4\n",
      "Std of the column 4 is 22.87006777427649\n"
     ]
    }
   ],
   "source": [
    "for i in range(np.shape(X)[0]):\n",
    "    print(f\"Mean of the row {i} is {np.mean(X[i])}\")\n",
    "    print(f\"Std of the row {i} is {np.std(X[i])}\")\n",
    "print(\"***\"*10)\n",
    "for i in range(np.shape(X)[1]):\n",
    "    print(f\"Mean of the column {i} is {np.mean(X[i])}\")\n",
    "    print(f\"Std of the column {i} is {np.std(X[i])}\")"
   ]
  },
  {
   "cell_type": "code",
   "execution_count": 16,
   "metadata": {
    "ExecuteTime": {
     "end_time": "2020-04-17T05:48:44.163510Z",
     "start_time": "2020-04-17T05:48:44.155509Z"
    },
    "colab": {},
    "colab_type": "code",
    "id": "gMdm2pw0GWjf"
   },
   "outputs": [
    {
     "name": "stdout",
     "output_type": "stream",
     "text": [
      "The Mean of whole Matrix : 52.96\n",
      "The Std of whole Matrix : 25.689655505669982\n"
     ]
    }
   ],
   "source": [
    "print(f\"The Mean of whole Matrix : {np.mean(X)}\")\n",
    "print(f\"The Std of whole Matrix : {np.std(X)}\")"
   ]
  },
  {
   "cell_type": "markdown",
   "metadata": {
    "colab_type": "text",
    "id": "7dw7W8HOGXKA"
   },
   "source": [
    "Let $Y$ denote a square matrix of size 10 with random values. Print the following:\n",
    "* Determinant\n",
    "* Rank of the matrix\n",
    "* Diagonal Elements\n",
    "* Trace\n",
    "* Eigen values\n",
    "* Matrices obtained after Singular Value Decomposition\n",
    "* Inverse if exists, otherwise Pseudo-Inverse\n",
    "* Multiplication $Y$ with $X$\n",
    "* Element-wise multiplication of $Y$ and its inverse(or pseudo-inverse)"
   ]
  },
  {
   "cell_type": "code",
   "execution_count": 29,
   "metadata": {
    "ExecuteTime": {
     "end_time": "2020-04-17T06:12:28.793187Z",
     "start_time": "2020-04-17T06:12:27.276143Z"
    },
    "colab": {},
    "colab_type": "code",
    "id": "Tswbn9hgL7yi"
   },
   "outputs": [
    {
     "data": {
      "text/plain": [
       "array([[0.5507979 , 0.70814782, 0.29090474, 0.51082761, 0.89294695,\n",
       "        0.89629309, 0.12558531, 0.20724288, 0.0514672 , 0.44080984],\n",
       "       [0.02987621, 0.45683322, 0.64914405, 0.27848728, 0.6762549 ,\n",
       "        0.59086282, 0.02398188, 0.55885409, 0.25925245, 0.4151012 ],\n",
       "       [0.28352508, 0.69313792, 0.44045372, 0.15686774, 0.54464902,\n",
       "        0.78031476, 0.30636353, 0.22195788, 0.38797126, 0.93638365],\n",
       "       [0.97599542, 0.67238368, 0.90283411, 0.84575087, 0.37799404,\n",
       "        0.09221701, 0.6534109 , 0.55784076, 0.36156476, 0.2250545 ],\n",
       "       [0.40651992, 0.46894025, 0.26923558, 0.29179277, 0.4576864 ,\n",
       "        0.86053391, 0.5862529 , 0.28348786, 0.27797751, 0.45462208],\n",
       "       [0.20541034, 0.20137871, 0.51403506, 0.08722937, 0.48358553,\n",
       "        0.36217621, 0.70768662, 0.74674622, 0.69109292, 0.68918041],\n",
       "       [0.37360012, 0.6681348 , 0.33984866, 0.57279387, 0.32580716,\n",
       "        0.44514505, 0.06152893, 0.24267542, 0.97160261, 0.2305842 ],\n",
       "       [0.69147751, 0.65047686, 0.72393914, 0.47508861, 0.59666377,\n",
       "        0.06696942, 0.07256214, 0.19897603, 0.151861  , 0.10010434],\n",
       "       [0.12929386, 0.55327773, 0.18781482, 0.95210124, 0.68161178,\n",
       "        0.54101967, 0.7071806 , 0.26388667, 0.92672568, 0.83919306],\n",
       "       [0.7263195 , 0.48023996, 0.84210319, 0.74475232, 0.66032591,\n",
       "        0.91397527, 0.63366556, 0.36594058, 0.55284457, 0.19638058]])"
      ]
     },
     "execution_count": 29,
     "metadata": {},
     "output_type": "execute_result"
    }
   ],
   "source": [
    "import scipy as sp\n",
    "np.random.seed(3)\n",
    "Y = np.random.rand(10,10)\n",
    "Y"
   ]
  },
  {
   "cell_type": "code",
   "execution_count": 28,
   "metadata": {
    "ExecuteTime": {
     "end_time": "2020-04-17T06:00:21.791945Z",
     "start_time": "2020-04-17T06:00:21.772902Z"
    }
   },
   "outputs": [
    {
     "name": "stdout",
     "output_type": "stream",
     "text": [
      "Determinant : -0.012807808169095495\n",
      "Rank of Matrix Y : 10\n",
      "Diagonal Elements : [0.5507979  0.45683322 0.44045372 0.84575087 0.4576864  0.36217621\n",
      " 0.06152893 0.19897603 0.92672568 0.19638058]\n",
      "Trace of Y : 4.497309545724899\n",
      "Eigen Values of Y : (array([ 4.797525  +0.j        ,  0.72411408+0.52238181j,\n",
      "        0.72411408-0.52238181j, -0.48250062+0.55413671j,\n",
      "       -0.48250062-0.55413671j, -0.6909002 +0.j        ,\n",
      "       -0.25905659+0.32357377j, -0.25905659-0.32357377j,\n",
      "        0.2127855 +0.08352477j,  0.2127855 -0.08352477j]), array([[ 0.29593906+0.j        ,  0.14213977+0.19798456j,\n",
      "         0.14213977-0.19798456j, -0.37236549+0.00325385j,\n",
      "        -0.37236549-0.00325385j, -0.1096481 +0.j        ,\n",
      "        -0.0132423 +0.12273111j, -0.0132423 -0.12273111j,\n",
      "        -0.56228934-0.10973258j, -0.56228934+0.10973258j],\n",
      "       [ 0.25059285+0.j        ,  0.01404552+0.1967944j ,\n",
      "         0.01404552-0.1967944j , -0.16781094-0.17307308j,\n",
      "        -0.16781094+0.17307308j, -0.29711444+0.j        ,\n",
      "        -0.04108937-0.4113554j , -0.04108937+0.4113554j ,\n",
      "         0.61892544+0.j        ,  0.61892544-0.j        ],\n",
      "       [ 0.31416894+0.j        , -0.24186998+0.15655466j,\n",
      "        -0.24186998-0.15655466j, -0.16993115+0.15284371j,\n",
      "        -0.16993115-0.15284371j,  0.36362726+0.j        ,\n",
      "        -0.10206063+0.15541211j, -0.10206063-0.15541211j,\n",
      "         0.16701388+0.18450241j,  0.16701388-0.18450241j],\n",
      "       [ 0.36027404+0.j        ,  0.52448941+0.j        ,\n",
      "         0.52448941-0.j        ,  0.48969059+0.j        ,\n",
      "         0.48969059-0.j        ,  0.17074825+0.j        ,\n",
      "         0.14078898+0.01851681j,  0.14078898-0.01851681j,\n",
      "        -0.13278372+0.03975259j, -0.13278372-0.03975259j],\n",
      "       [ 0.27990836+0.j        , -0.13624801+0.01805996j,\n",
      "        -0.13624801-0.01805996j, -0.0731246 -0.10412128j,\n",
      "        -0.0731246 +0.10412128j,  0.13537705+0.j        ,\n",
      "        -0.29263074+0.368267j  , -0.29263074-0.368267j  ,\n",
      "        -0.07942445-0.1381196j , -0.07942445+0.1381196j ],\n",
      "       [ 0.30697292+0.j        , -0.2288709 -0.09164898j,\n",
      "        -0.2288709 +0.09164898j,  0.34166486-0.10037728j,\n",
      "         0.34166486+0.10037728j,  0.38961338+0.j        ,\n",
      "         0.1575938 -0.27237341j,  0.1575938 +0.27237341j,\n",
      "        -0.05056956+0.01833742j, -0.05056956-0.01833742j],\n",
      "       [ 0.28526996+0.j        , -0.07276121-0.22120787j,\n",
      "        -0.07276121+0.22120787j, -0.09920762+0.30369397j,\n",
      "        -0.09920762-0.30369397j, -0.38942645+0.j        ,\n",
      "        -0.35795075-0.21303717j, -0.35795075+0.21303717j,\n",
      "         0.25824685-0.05397791j,  0.25824685+0.05397791j],\n",
      "       [ 0.23358056+0.j        ,  0.33195752+0.22875065j,\n",
      "         0.33195752-0.22875065j,  0.22899202+0.29805206j,\n",
      "         0.22899202-0.29805206j, -0.15526644+0.j        ,\n",
      "         0.47450761+0.j        ,  0.47450761-0.j        ,\n",
      "         0.01343252-0.05360821j,  0.01343252+0.05360821j],\n",
      "       [ 0.39548419+0.j        , -0.14569343-0.47441452j,\n",
      "        -0.14569343+0.47441452j, -0.29937425-0.1334132j ,\n",
      "        -0.29937425+0.1334132j ,  0.26931546+0.j        ,\n",
      "         0.07126882+0.08476271j,  0.07126882-0.08476271j,\n",
      "        -0.02419704-0.00279054j, -0.02419704+0.00279054j],\n",
      "       [ 0.3952166 +0.j        , -0.02644966-0.01254236j,\n",
      "        -0.02644966+0.01254236j,  0.09200666-0.09461051j,\n",
      "         0.09200666+0.09461051j, -0.5656002 +0.j        ,\n",
      "         0.04736886+0.16022229j,  0.04736886-0.16022229j,\n",
      "        -0.31202472+0.09318458j, -0.31202472-0.09318458j]]))\n"
     ]
    }
   ],
   "source": [
    "# Determinant\n",
    "print(f\"Determinant : {np.linalg.det(Y)}\")\n",
    "# Rank of the Matrix\n",
    "print(f\"Rank of Matrix Y : {np.linalg.matrix_rank(Y)}\")\n",
    "# Diagonal Elements\n",
    "print(f\"Diagonal Elements : {np.diag(Y)}\")\n",
    "# Trace\n",
    "print(f\"Trace of Y : {np.trace(Y)}\")\n",
    "# Eigen Values\n",
    "print(f\"Eigen Values of Y : {np.linalg.eig(Y)}\")"
   ]
  },
  {
   "cell_type": "code",
   "execution_count": 35,
   "metadata": {
    "ExecuteTime": {
     "end_time": "2020-04-17T06:15:20.768551Z",
     "start_time": "2020-04-17T06:15:20.752540Z"
    }
   },
   "outputs": [
    {
     "name": "stdout",
     "output_type": "stream",
     "text": [
      "[[-0.31776408 -0.02455508 -0.60644878 -0.17883359 -0.12672161  0.14873878\n",
      "  -0.17823942 -0.52859453 -0.02295855 -0.38570883]\n",
      " [-0.26118514 -0.10864541 -0.24911354  0.26547359  0.52168399 -0.25773901\n",
      "  -0.46995326  0.21752636 -0.39285046  0.16234491]\n",
      " [-0.31347907 -0.34483471 -0.25292297  0.1214296   0.1486964   0.33436315\n",
      "   0.54080229  0.48017168  0.05660692 -0.20966421]\n",
      " [-0.35815379  0.59490017  0.30255161  0.15850614 -0.11046295  0.3051409\n",
      "   0.07395537  0.03044889 -0.50561658 -0.18384856]\n",
      " [-0.28385845 -0.18085696 -0.1583078   0.10535533 -0.46807835 -0.08377643\n",
      "   0.24075452 -0.16170764 -0.24786952  0.69201648]\n",
      " [-0.28871348 -0.27577124  0.40271105  0.60433658  0.11931679 -0.04899205\n",
      "   0.02593316 -0.44875145  0.27874747 -0.12964796]\n",
      " [-0.27897316  0.00398904  0.20819753 -0.52536617  0.41116881 -0.41991923\n",
      "   0.42687225 -0.24145621 -0.12958507 -0.00984813]\n",
      " [-0.24788529  0.48136836 -0.15792433 -0.02303902  0.3246308   0.25755952\n",
      "  -0.01429533 -0.03088365  0.56052488  0.44079262]\n",
      " [-0.37505167 -0.36728578  0.39799373 -0.45186801 -0.10830044  0.34456765\n",
      "  -0.4447402   0.14147957  0.0716725   0.09192695]\n",
      " [-0.40049601  0.19846099 -0.02705464  0.02500837 -0.39745062 -0.57941613\n",
      "  -0.10288216  0.3673956   0.33321483 -0.22039139]]\n",
      "**********************************************************************\n",
      "[4.89636645 1.42832104 1.17173389 0.94068764 0.76892251 0.62457278\n",
      " 0.52105948 0.28969576 0.24512275 0.09350223]\n",
      "**********************************************************************\n",
      "[[-0.28816735 -0.35560525 -0.33294235 -0.33250662 -0.36658188 -0.3625847\n",
      "  -0.26573249 -0.23278667 -0.30457183 -0.29270444]\n",
      " [ 0.53693497  0.11306854  0.39562078  0.25099719 -0.07369559 -0.37753546\n",
      "  -0.08584363  0.00333609 -0.2399022  -0.51623983]\n",
      " [-0.084609   -0.22589744 -0.00306935  0.1954239  -0.327784   -0.49318928\n",
      "   0.42323124  0.18588504  0.58200169  0.02301787]\n",
      " [ 0.01388163 -0.2631197   0.42190391 -0.53612946  0.01058633 -0.04415909\n",
      "   0.29385139  0.49501812 -0.32731018  0.15669071]\n",
      " [-0.27340804  0.28220631  0.28945859 -0.1626885   0.14790418 -0.35915036\n",
      "  -0.64971879  0.23854611  0.29589227  0.1337842 ]\n",
      " [ 0.10830593  0.27974551 -0.20571161  0.10308827  0.10096026 -0.5325142\n",
      "   0.15994871 -0.16150892 -0.3941055   0.59692177]\n",
      " [ 0.44882085  0.34972045 -0.01773924 -0.50737391 -0.52251393  0.11970007\n",
      "  -0.02807841 -0.20137782  0.25705553  0.15409283]\n",
      " [-0.35599817 -0.05022624  0.63427946  0.20935183 -0.34847081  0.11510691\n",
      "   0.03182222 -0.47748403 -0.1161671   0.21777064]\n",
      " [ 0.18417681 -0.32168889  0.15954963 -0.32397524  0.5548368  -0.1807982\n",
      "   0.08626619 -0.55063636  0.28439362 -0.01119242]\n",
      " [-0.41560913  0.59522266  0.02089304 -0.23979844  0.13515565 -0.0893732\n",
      "   0.44674689 -0.10709455 -0.02239562 -0.42098815]]\n"
     ]
    }
   ],
   "source": [
    "# SVD\n",
    "from scipy.linalg import svd\n",
    "U,S,VT = svd(Y)\n",
    "print(U)\n",
    "print('*******'*10)\n",
    "print(S)\n",
    "print('*******'*10)\n",
    "print(VT)"
   ]
  },
  {
   "cell_type": "code",
   "execution_count": 45,
   "metadata": {
    "ExecuteTime": {
     "end_time": "2020-04-17T06:24:14.196994Z",
     "start_time": "2020-04-17T06:24:14.182980Z"
    }
   },
   "outputs": [
    {
     "name": "stdout",
     "output_type": "stream",
     "text": [
      "inverse of Y\n"
     ]
    },
    {
     "data": {
      "text/plain": [
       "array([[ 2.31470983, -1.92264991,  0.7642126 ,  0.78096977, -2.74248585,\n",
       "         1.20175092,  0.38693174, -1.37664514, -0.96484143,  0.83123246],\n",
       "       [-2.24504111,  1.25605742, -0.91466223, -0.39587642,  4.71823627,\n",
       "        -1.32162185,  0.52594984,  2.39368168,  0.33051878, -2.33540101],\n",
       "       [-1.41290916,  0.66149939,  0.94968095, -0.18869248, -0.50069581,\n",
       "        -0.55664939, -0.55275157,  0.57384943, -0.04209635,  1.11025544],\n",
       "       [ 0.88051129,  0.37055438,  0.15632501,  1.25248223, -1.81219563,\n",
       "        -0.7249179 , -0.19613524, -1.81766381,  0.56943994,  0.52226388],\n",
       "       [ 0.39743656, -0.28842728, -1.09880632, -1.57965965,  0.36480771,\n",
       "         0.90235521, -0.47743451,  2.09911148,  0.53638288, -0.04562024],\n",
       "       [ 0.36068175,  0.22958502,  0.33426258,  0.10367281, -0.06700744,\n",
       "        -0.37158555,  0.22972702, -1.26286862, -0.45133033,  0.75430018],\n",
       "       [-2.01045364,  0.19347423, -1.01393804, -0.74303568,  3.56449935,\n",
       "        -0.31892146, -0.67116163,  2.01265699,  0.72873355, -0.69454601],\n",
       "       [ 1.18043988,  0.86047396, -0.88991494,  1.30425635, -0.14247318,\n",
       "         0.69661973,  0.5413572 , -1.69774697, -0.60797727, -1.00698216],\n",
       "       [-0.1679456 , -0.63197036, -0.0540802 , -0.73587818, -0.46423184,\n",
       "         0.67805628,  0.88551393,  0.37662528, -0.03416891,  0.42341327],\n",
       "       [ 1.3938872 , -0.74982353,  1.96636643,  1.00676681, -3.21953806,\n",
       "         0.44078124, -0.40298654, -1.90114336, -0.04414834,  0.55576763]])"
      ]
     },
     "execution_count": 45,
     "metadata": {},
     "output_type": "execute_result"
    }
   ],
   "source": [
    "# Inverse of Y\n",
    "print(\"inverse of Y\")\n",
    "Yinv = np.linalg.inv(Y)\n",
    "Yinv"
   ]
  },
  {
   "cell_type": "code",
   "execution_count": 44,
   "metadata": {
    "ExecuteTime": {
     "end_time": "2020-04-17T06:23:25.882538Z",
     "start_time": "2020-04-17T06:23:25.870534Z"
    }
   },
   "outputs": [
    {
     "name": "stdout",
     "output_type": "stream",
     "text": [
      "Matrix Multiplication\n"
     ]
    },
    {
     "data": {
      "text/plain": [
       "array([[196.47053735, 233.76595796, 243.70337441, 256.97675249,\n",
       "        349.05582348],\n",
       "       [171.49900195, 207.80632134, 185.43803261, 175.06794998,\n",
       "        265.60968565],\n",
       "       [177.91137405, 274.57881624, 220.26952781, 241.93701447,\n",
       "        330.57310078],\n",
       "       [269.71441899, 328.18149646, 324.71475436, 274.26564514,\n",
       "        373.06737305],\n",
       "       [167.85841118, 226.2202768 , 236.00275716, 247.06329601,\n",
       "        297.39506759],\n",
       "       [198.01784018, 260.23097279, 210.24097908, 234.35234529,\n",
       "        274.49451109],\n",
       "       [166.26987353, 239.21560977, 189.37355718, 211.8084412 ,\n",
       "        276.99667229],\n",
       "       [187.63992287, 221.57139692, 200.35598392, 175.910487  ,\n",
       "        262.37823033],\n",
       "       [248.12429283, 320.09151182, 276.00275341, 318.3491192 ,\n",
       "        386.61285907],\n",
       "       [275.6384475 , 323.94999219, 359.61653769, 329.61302423,\n",
       "        408.42939563]])"
      ]
     },
     "execution_count": 44,
     "metadata": {},
     "output_type": "execute_result"
    }
   ],
   "source": [
    "# Matrix Multiplication\n",
    "print('Matrix Multiplication')\n",
    "np.matmul(Y,X)\n"
   ]
  },
  {
   "cell_type": "code",
   "execution_count": 48,
   "metadata": {
    "ExecuteTime": {
     "end_time": "2020-04-17T06:24:55.753578Z",
     "start_time": "2020-04-17T06:24:55.736579Z"
    }
   },
   "outputs": [
    {
     "name": "stdout",
     "output_type": "stream",
     "text": [
      "Element wise Matrix Multiplication Y and Y inverse\n"
     ]
    },
    {
     "data": {
      "text/plain": [
       "array([[ 1.27493732, -1.36152035,  0.22231307,  0.39894092, -2.44889439,\n",
       "         1.07712104,  0.04859294, -0.2852999 , -0.04965769,  0.36641545],\n",
       "       [-0.06707332,  0.57380876, -0.59374754, -0.11024655,  3.19073041,\n",
       "        -0.78089721,  0.01261327,  1.33771879,  0.0856878 , -0.96942775],\n",
       "       [-0.40059519,  0.45851031,  0.4182905 , -0.02959976, -0.27270348,\n",
       "        -0.43436174, -0.16934292,  0.12737041, -0.01633217,  1.03962504],\n",
       "       [ 0.85937499,  0.24915472,  0.14113555,  1.05928794, -0.68499915,\n",
       "        -0.06684976, -0.12815691, -1.01396696,  0.20588942,  0.11753784],\n",
       "       [ 0.16156588, -0.13525516, -0.29583776, -0.46093327,  0.16696753,\n",
       "         0.77650726, -0.27989737,  0.59507263,  0.14910237, -0.02073997],\n",
       "       [ 0.07408776,  0.04623354,  0.17182269,  0.00904331, -0.03240383,\n",
       "        -0.13457945,  0.16257474, -0.94304237, -0.3119112 ,  0.51984891],\n",
       "       [-0.75110573,  0.12926687, -0.34458549, -0.42560628,  1.1613394 ,\n",
       "        -0.14196631, -0.04129586,  0.48842239,  0.70803941, -0.16015134],\n",
       "       [ 0.81624763,  0.5597184 , -0.64424426,  0.61963734, -0.08500859,\n",
       "         0.04665222,  0.03928204, -0.33781095, -0.09232803, -0.10080329],\n",
       "       [-0.02171434, -0.34965513, -0.01015706, -0.70063053, -0.31642589,\n",
       "         0.36684179,  0.62621827,  0.09938639, -0.03166521,  0.35532547],\n",
       "       [ 1.01240745, -0.36009522,  1.65588343,  0.74979192, -2.12594439,\n",
       "         0.40286315, -0.25535869, -0.69570551, -0.02440717,  0.10914197]])"
      ]
     },
     "execution_count": 48,
     "metadata": {},
     "output_type": "execute_result"
    }
   ],
   "source": [
    "# Element wise Matrix Multiplication\n",
    "print(\"Element wise Matrix Multiplication Y and Y inverse\")\n",
    "np.multiply(Y,Yinv)"
   ]
  },
  {
   "cell_type": "markdown",
   "metadata": {
    "colab_type": "text",
    "id": "Qne3RnfOL6-4"
   },
   "source": [
    "## End of Part - 1\n",
    " --- --- ---"
   ]
  },
  {
   "cell_type": "markdown",
   "metadata": {
    "colab_type": "text",
    "id": "LA-m4UYkMPTe"
   },
   "source": [
    "## Part - 2\n",
    "---\n",
    "In this part, you will be working with the library ```pandas```. Import this library with an alias name ```pd```."
   ]
  },
  {
   "cell_type": "code",
   "execution_count": 0,
   "metadata": {
    "colab": {},
    "colab_type": "code",
    "id": "i8z7TpnZSIms"
   },
   "outputs": [],
   "source": [
    "# Initial imports\n",
    "import numpy as np\n",
    "import matplotlib.pyplot as plt\n",
    "import pandas as pd"
   ]
  },
  {
   "cell_type": "markdown",
   "metadata": {
    "colab_type": "text",
    "id": "2v-HkHnyuQ3X"
   },
   "source": [
    "Download dataset from: http://biostat.mc.vanderbilt.edu/wiki/pub/Main/DataSets/titanic3.csv\n",
    "Read the data and display the first 5 rows"
   ]
  },
  {
   "cell_type": "code",
   "execution_count": 2,
   "metadata": {
    "colab": {
     "base_uri": "https://localhost:8080/",
     "height": 195
    },
    "colab_type": "code",
    "executionInfo": {
     "elapsed": 3201,
     "status": "ok",
     "timestamp": 1587042185846,
     "user": {
      "displayName": "Bro John Mark",
      "photoUrl": "",
      "userId": "08019861679024111431"
     },
     "user_tz": -330
    },
    "id": "LinX5ywNTUIm",
    "outputId": "9e39885c-ac25-42e6-aa1e-4e579a5d870c"
   },
   "outputs": [
    {
     "data": {
      "text/html": [
       "<div>\n",
       "<style scoped>\n",
       "    .dataframe tbody tr th:only-of-type {\n",
       "        vertical-align: middle;\n",
       "    }\n",
       "\n",
       "    .dataframe tbody tr th {\n",
       "        vertical-align: top;\n",
       "    }\n",
       "\n",
       "    .dataframe thead th {\n",
       "        text-align: right;\n",
       "    }\n",
       "</style>\n",
       "<table border=\"1\" class=\"dataframe\">\n",
       "  <thead>\n",
       "    <tr style=\"text-align: right;\">\n",
       "      <th></th>\n",
       "      <th>pclass</th>\n",
       "      <th>survived</th>\n",
       "      <th>name</th>\n",
       "      <th>sex</th>\n",
       "      <th>age</th>\n",
       "      <th>sibsp</th>\n",
       "      <th>parch</th>\n",
       "      <th>ticket</th>\n",
       "      <th>fare</th>\n",
       "      <th>cabin</th>\n",
       "      <th>embarked</th>\n",
       "      <th>boat</th>\n",
       "      <th>body</th>\n",
       "      <th>home.dest</th>\n",
       "    </tr>\n",
       "  </thead>\n",
       "  <tbody>\n",
       "    <tr>\n",
       "      <th>0</th>\n",
       "      <td>1</td>\n",
       "      <td>1</td>\n",
       "      <td>Allen, Miss. Elisabeth Walton</td>\n",
       "      <td>female</td>\n",
       "      <td>29.00</td>\n",
       "      <td>0</td>\n",
       "      <td>0</td>\n",
       "      <td>24160</td>\n",
       "      <td>211.3375</td>\n",
       "      <td>B5</td>\n",
       "      <td>S</td>\n",
       "      <td>2</td>\n",
       "      <td>NaN</td>\n",
       "      <td>St Louis, MO</td>\n",
       "    </tr>\n",
       "    <tr>\n",
       "      <th>1</th>\n",
       "      <td>1</td>\n",
       "      <td>1</td>\n",
       "      <td>Allison, Master. Hudson Trevor</td>\n",
       "      <td>male</td>\n",
       "      <td>0.92</td>\n",
       "      <td>1</td>\n",
       "      <td>2</td>\n",
       "      <td>113781</td>\n",
       "      <td>151.5500</td>\n",
       "      <td>C22 C26</td>\n",
       "      <td>S</td>\n",
       "      <td>11</td>\n",
       "      <td>NaN</td>\n",
       "      <td>Montreal, PQ / Chesterville, ON</td>\n",
       "    </tr>\n",
       "    <tr>\n",
       "      <th>2</th>\n",
       "      <td>1</td>\n",
       "      <td>0</td>\n",
       "      <td>Allison, Miss. Helen Loraine</td>\n",
       "      <td>female</td>\n",
       "      <td>2.00</td>\n",
       "      <td>1</td>\n",
       "      <td>2</td>\n",
       "      <td>113781</td>\n",
       "      <td>151.5500</td>\n",
       "      <td>C22 C26</td>\n",
       "      <td>S</td>\n",
       "      <td>NaN</td>\n",
       "      <td>NaN</td>\n",
       "      <td>Montreal, PQ / Chesterville, ON</td>\n",
       "    </tr>\n",
       "    <tr>\n",
       "      <th>3</th>\n",
       "      <td>1</td>\n",
       "      <td>0</td>\n",
       "      <td>Allison, Mr. Hudson Joshua Creighton</td>\n",
       "      <td>male</td>\n",
       "      <td>30.00</td>\n",
       "      <td>1</td>\n",
       "      <td>2</td>\n",
       "      <td>113781</td>\n",
       "      <td>151.5500</td>\n",
       "      <td>C22 C26</td>\n",
       "      <td>S</td>\n",
       "      <td>NaN</td>\n",
       "      <td>135.0</td>\n",
       "      <td>Montreal, PQ / Chesterville, ON</td>\n",
       "    </tr>\n",
       "    <tr>\n",
       "      <th>4</th>\n",
       "      <td>1</td>\n",
       "      <td>0</td>\n",
       "      <td>Allison, Mrs. Hudson J C (Bessie Waldo Daniels)</td>\n",
       "      <td>female</td>\n",
       "      <td>25.00</td>\n",
       "      <td>1</td>\n",
       "      <td>2</td>\n",
       "      <td>113781</td>\n",
       "      <td>151.5500</td>\n",
       "      <td>C22 C26</td>\n",
       "      <td>S</td>\n",
       "      <td>NaN</td>\n",
       "      <td>NaN</td>\n",
       "      <td>Montreal, PQ / Chesterville, ON</td>\n",
       "    </tr>\n",
       "  </tbody>\n",
       "</table>\n",
       "</div>"
      ],
      "text/plain": [
       "   pclass  survived  ...   body                        home.dest\n",
       "0       1         1  ...    NaN                     St Louis, MO\n",
       "1       1         1  ...    NaN  Montreal, PQ / Chesterville, ON\n",
       "2       1         0  ...    NaN  Montreal, PQ / Chesterville, ON\n",
       "3       1         0  ...  135.0  Montreal, PQ / Chesterville, ON\n",
       "4       1         0  ...    NaN  Montreal, PQ / Chesterville, ON\n",
       "\n",
       "[5 rows x 14 columns]"
      ]
     },
     "execution_count": 2,
     "metadata": {
      "tags": []
     },
     "output_type": "execute_result"
    }
   ],
   "source": [
    "#Download dataset from: http://biostat.mc.vanderbilt.edu/wiki/pub/Main/DataSets/titanic3.csv\n",
    "\n",
    "file_url = \"http://biostat.mc.vanderbilt.edu/wiki/pub/Main/DataSets/titanic3.csv\"\n",
    "\n",
    "data = pd.read_csv(file_url)\n",
    "data.head()"
   ]
  },
  {
   "cell_type": "markdown",
   "metadata": {
    "colab_type": "text",
    "id": "vTk1-mF5WYFN"
   },
   "source": [
    "### Preprocessing of the Dataset"
   ]
  },
  {
   "cell_type": "markdown",
   "metadata": {
    "colab_type": "text",
    "id": "kx9UrI9WWt17"
   },
   "source": [
    "\n",
    "\n",
    "---\n",
    "\n",
    "\n",
    "**1. Convert the categorical values of columns 'sex', 'embarked', 'pclass' into dummy values and add them into titanic_data_new DataFrame**\n",
    "\n",
    "\n",
    "\n",
    "\n",
    "---\n",
    "\n"
   ]
  },
  {
   "cell_type": "code",
   "execution_count": 43,
   "metadata": {
    "colab": {
     "base_uri": "https://localhost:8080/",
     "height": 190
    },
    "colab_type": "code",
    "executionInfo": {
     "elapsed": 1921,
     "status": "ok",
     "timestamp": 1587044440495,
     "user": {
      "displayName": "Bro John Mark",
      "photoUrl": "",
      "userId": "08019861679024111431"
     },
     "user_tz": -330
    },
    "id": "AwDh9njbZ0QU",
    "outputId": "64b6383c-1660-4e72-92a0-4bf825789554"
   },
   "outputs": [
    {
     "data": {
      "text/html": [
       "<div>\n",
       "<style scoped>\n",
       "    .dataframe tbody tr th:only-of-type {\n",
       "        vertical-align: middle;\n",
       "    }\n",
       "\n",
       "    .dataframe tbody tr th {\n",
       "        vertical-align: top;\n",
       "    }\n",
       "\n",
       "    .dataframe thead th {\n",
       "        text-align: right;\n",
       "    }\n",
       "</style>\n",
       "<table border=\"1\" class=\"dataframe\">\n",
       "  <thead>\n",
       "    <tr style=\"text-align: right;\">\n",
       "      <th></th>\n",
       "      <th>survived</th>\n",
       "      <th>name</th>\n",
       "      <th>age</th>\n",
       "      <th>sibsp</th>\n",
       "      <th>parch</th>\n",
       "      <th>ticket</th>\n",
       "      <th>fare</th>\n",
       "      <th>cabin</th>\n",
       "      <th>boat</th>\n",
       "      <th>body</th>\n",
       "      <th>home.dest</th>\n",
       "      <th>sex_female</th>\n",
       "      <th>sex_male</th>\n",
       "      <th>embarked_C</th>\n",
       "      <th>embarked_Q</th>\n",
       "      <th>embarked_S</th>\n",
       "      <th>pclass_1</th>\n",
       "      <th>pclass_2</th>\n",
       "      <th>pclass_3</th>\n",
       "    </tr>\n",
       "  </thead>\n",
       "  <tbody>\n",
       "    <tr>\n",
       "      <th>0</th>\n",
       "      <td>1</td>\n",
       "      <td>Allen, Miss. Elisabeth Walton</td>\n",
       "      <td>29.00</td>\n",
       "      <td>0</td>\n",
       "      <td>0</td>\n",
       "      <td>24160</td>\n",
       "      <td>211.3375</td>\n",
       "      <td>B5</td>\n",
       "      <td>2</td>\n",
       "      <td>NaN</td>\n",
       "      <td>St Louis, MO</td>\n",
       "      <td>1</td>\n",
       "      <td>0</td>\n",
       "      <td>0</td>\n",
       "      <td>0</td>\n",
       "      <td>1</td>\n",
       "      <td>1</td>\n",
       "      <td>0</td>\n",
       "      <td>0</td>\n",
       "    </tr>\n",
       "    <tr>\n",
       "      <th>1</th>\n",
       "      <td>1</td>\n",
       "      <td>Allison, Master. Hudson Trevor</td>\n",
       "      <td>0.92</td>\n",
       "      <td>1</td>\n",
       "      <td>2</td>\n",
       "      <td>113781</td>\n",
       "      <td>151.5500</td>\n",
       "      <td>C22 C26</td>\n",
       "      <td>11</td>\n",
       "      <td>NaN</td>\n",
       "      <td>Montreal, PQ / Chesterville, ON</td>\n",
       "      <td>0</td>\n",
       "      <td>1</td>\n",
       "      <td>0</td>\n",
       "      <td>0</td>\n",
       "      <td>1</td>\n",
       "      <td>1</td>\n",
       "      <td>0</td>\n",
       "      <td>0</td>\n",
       "    </tr>\n",
       "  </tbody>\n",
       "</table>\n",
       "</div>"
      ],
      "text/plain": [
       "   survived                            name  ...  pclass_2  pclass_3\n",
       "0         1   Allen, Miss. Elisabeth Walton  ...         0         0\n",
       "1         1  Allison, Master. Hudson Trevor  ...         0         0\n",
       "\n",
       "[2 rows x 19 columns]"
      ]
     },
     "execution_count": 43,
     "metadata": {
      "tags": []
     },
     "output_type": "execute_result"
    }
   ],
   "source": [
    "data2 = pd.get_dummies(data=data, columns=['sex','embarked','pclass'])\n",
    "data2.head(2)"
   ]
  },
  {
   "cell_type": "markdown",
   "metadata": {
    "colab_type": "text",
    "id": "Z9bxOfzDbY-n"
   },
   "source": [
    "\n",
    "\n",
    "---\n",
    "\n",
    "\n",
    "**2. Fill the missing data in Age and Fare columns with the mean value of the respected column then add these columns to titanic_data_new**\n",
    "\n",
    "\n",
    "---\n",
    "\n"
   ]
  },
  {
   "cell_type": "code",
   "execution_count": 44,
   "metadata": {
    "colab": {
     "base_uri": "https://localhost:8080/",
     "height": 50
    },
    "colab_type": "code",
    "executionInfo": {
     "elapsed": 2099,
     "status": "ok",
     "timestamp": 1587044449638,
     "user": {
      "displayName": "Bro John Mark",
      "photoUrl": "",
      "userId": "08019861679024111431"
     },
     "user_tz": -330
    },
    "id": "DNx7Pr0ehhAs",
    "outputId": "56be4e29-9515-42b6-fe70-e4ff3bd51eec"
   },
   "outputs": [
    {
     "name": "stdout",
     "output_type": "stream",
     "text": [
      "average of age : 29.88\n",
      "average of age : 33.2955\n"
     ]
    }
   ],
   "source": [
    "data2.age = data2.age.fillna(round(data2.age.mean(),2))\n",
    "data2.fare = data2.fare.fillna(round(data2.fare.mean(),4))\n",
    "print(f\"average of age : {round(data2.age.mean(),2)}\")\n",
    "print(f\"average of age : {round(data2.fare.mean(),4)}\")"
   ]
  },
  {
   "cell_type": "markdown",
   "metadata": {
    "colab_type": "text",
    "id": "SlRzKfhxkd1M"
   },
   "source": [
    "###Normalization\n",
    "\n",
    "\n",
    "---\n",
    "\n",
    "\n",
    "\n",
    "1. Normalize the columns which have numerical data\n",
    "\n",
    "\n",
    "\n",
    "---\n",
    "\n"
   ]
  },
  {
   "cell_type": "code",
   "execution_count": 37,
   "metadata": {
    "colab": {
     "base_uri": "https://localhost:8080/",
     "height": 454
    },
    "colab_type": "code",
    "executionInfo": {
     "elapsed": 1177,
     "status": "ok",
     "timestamp": 1587043977642,
     "user": {
      "displayName": "Bro John Mark",
      "photoUrl": "",
      "userId": "08019861679024111431"
     },
     "user_tz": -330
    },
    "id": "lzhzX10KLn_q",
    "outputId": "9da38d60-be47-4927-bb20-7435dc8ed286"
   },
   "outputs": [
    {
     "name": "stdout",
     "output_type": "stream",
     "text": [
      "<class 'pandas.core.frame.DataFrame'>\n",
      "RangeIndex: 1309 entries, 0 to 1308\n",
      "Data columns (total 19 columns):\n",
      " #   Column      Non-Null Count  Dtype  \n",
      "---  ------      --------------  -----  \n",
      " 0   survived    1309 non-null   int64  \n",
      " 1   name        1309 non-null   object \n",
      " 2   age         1309 non-null   float64\n",
      " 3   sibsp       1309 non-null   int64  \n",
      " 4   parch       1309 non-null   int64  \n",
      " 5   ticket      1309 non-null   object \n",
      " 6   fare        1309 non-null   float64\n",
      " 7   cabin       295 non-null    object \n",
      " 8   boat        486 non-null    object \n",
      " 9   body        121 non-null    float64\n",
      " 10  home.dest   745 non-null    object \n",
      " 11  sex_female  1309 non-null   uint8  \n",
      " 12  sex_male    1309 non-null   uint8  \n",
      " 13  embarked_C  1309 non-null   uint8  \n",
      " 14  embarked_Q  1309 non-null   uint8  \n",
      " 15  embarked_S  1309 non-null   uint8  \n",
      " 16  pclass_1    1309 non-null   uint8  \n",
      " 17  pclass_2    1309 non-null   uint8  \n",
      " 18  pclass_3    1309 non-null   uint8  \n",
      "dtypes: float64(3), int64(3), object(5), uint8(8)\n",
      "memory usage: 122.8+ KB\n"
     ]
    }
   ],
   "source": [
    "data2.info()"
   ]
  },
  {
   "cell_type": "code",
   "execution_count": 0,
   "metadata": {
    "colab": {},
    "colab_type": "code",
    "id": "Y3hpu92TlM38"
   },
   "outputs": [],
   "source": [
    "from sklearn.preprocessing import MinMaxScaler # Importing minmax scaler to normalize data\n",
    "mMscale = MinMaxScaler() # initiating the minmax scaler\n",
    "age_scaled = mMscale.fit_transform(data2[['age']]) # fitting the age data into scaler and transforming and saved into age_scaled\n",
    "parch_scaled = mMscale.fit_transform(data2[['parch']])\n",
    "fare_scaled = mMscale.fit_transform(data2[['fare']])\n",
    "body_scaled = mMscale.fit_transform(data2[['body']])"
   ]
  },
  {
   "cell_type": "markdown",
   "metadata": {
    "colab_type": "text",
    "id": "wB9-5x83mFAO"
   },
   "source": [
    "\n",
    "\n",
    "---\n",
    "2. Drop the original age, fare columns\n",
    "3. Append the normalized columns to the titanic_data_new DataFrame.\n",
    "\n",
    "\n",
    "\n",
    "---\n",
    "\n"
   ]
  },
  {
   "cell_type": "code",
   "execution_count": 0,
   "metadata": {
    "colab": {},
    "colab_type": "code",
    "id": "Kb00kM0onQJy"
   },
   "outputs": [],
   "source": [
    "data3 = data2.drop(['age','parch','fare','body'],axis=1)"
   ]
  },
  {
   "cell_type": "code",
   "execution_count": 0,
   "metadata": {
    "colab": {},
    "colab_type": "code",
    "id": "SeGcFSOoOduF"
   },
   "outputs": [],
   "source": [
    "data3['age_scaled'] = age_scaled\n",
    "data3['parch_scaled'] = parch_scaled\n",
    "data3['fare_scaled'] = fare_scaled\n",
    "data3['body_scaled'] = body_scaled"
   ]
  },
  {
   "cell_type": "markdown",
   "metadata": {
    "colab_type": "text",
    "id": "uLxN3PozntKe"
   },
   "source": [
    "###Plotting\n",
    "1. plot the age against the ID(continuous)\n",
    "2. plot the fare against the ID(scatter)"
   ]
  },
  {
   "cell_type": "code",
   "execution_count": 56,
   "metadata": {
    "colab": {
     "base_uri": "https://localhost:8080/",
     "height": 623
    },
    "colab_type": "code",
    "executionInfo": {
     "elapsed": 4772,
     "status": "ok",
     "timestamp": 1587045426727,
     "user": {
      "displayName": "Bro John Mark",
      "photoUrl": "",
      "userId": "08019861679024111431"
     },
     "user_tz": -330
    },
    "id": "LdSfNEKYn_RO",
    "outputId": "1e981bc8-424d-4b58-9a2c-d9ff57d9bcf8"
   },
   "outputs": [
    {
     "data": {
      "text/plain": [
       "<matplotlib.collections.PathCollection at 0x7f69ecc6ac50>"
      ]
     },
     "execution_count": 56,
     "metadata": {
      "tags": []
     },
     "output_type": "execute_result"
    },
    {
     "data": {
      "image/png": "[encoded data removed]",
      "text/plain": [
       "<Figure size 1152x720 with 2 Axes>"
      ]
     },
     "metadata": {
      "needs_background": "light",
      "tags": []
     },
     "output_type": "display_data"
    }
   ],
   "source": [
    "plt.figure(figsize=(16,10))\n",
    "ax = plt.subplot(2,1,1)\n",
    "plt.xlabel('Id')\n",
    "plt.ylabel('Age')\n",
    "plt.plot(data3.index,data3.age_scaled)\n",
    "\n",
    "ax = plt.subplot(2,1,2)\n",
    "plt.xlabel('Id')\n",
    "plt.ylabel('fare')\n",
    "plt.scatter(data3.index,data3.fare_scaled)"
   ]
  },
  {
   "cell_type": "markdown",
   "metadata": {
    "colab_type": "text",
    "id": "LQr7y6eevTvy"
   },
   "source": [
    "## End of Part - 2\n",
    "---"
   ]
  },
  {
   "cell_type": "markdown",
   "metadata": {
    "colab_type": "text",
    "id": "TWhZcKvfvW2B"
   },
   "source": [
    "## Part - 3\n",
    "---"
   ]
  },
  {
   "cell_type": "markdown",
   "metadata": {
    "colab_type": "text",
    "id": "8bY4H9DszQ2S"
   },
   "source": [
    "In this part, you will work with the library ```matplotlib```. Import the ```pyplot``` from ```matplotlib``` with an alias name ```plt```."
   ]
  },
  {
   "cell_type": "code",
   "execution_count": 62,
   "metadata": {
    "ExecuteTime": {
     "end_time": "2020-04-17T13:21:29.315902Z",
     "start_time": "2020-04-17T13:21:29.174501Z"
    },
    "colab": {},
    "colab_type": "code",
    "id": "hPN6qctRzknT"
   },
   "outputs": [],
   "source": [
    "import matplotlib.pyplot as plt\n",
    "from numpy import pi\n",
    "import seaborn as sns"
   ]
  },
  {
   "cell_type": "markdown",
   "metadata": {
    "colab_type": "text",
    "id": "fQ6KX_Aezlub"
   },
   "source": [
    "Plot the sine function with domain in $[-3\\pi,3\\pi]$. Label the axes appropriately. Add title $\\sin(x)$. Use latex formatting while adding the title. Set the plot size to (10,10)"
   ]
  },
  {
   "cell_type": "code",
   "execution_count": 55,
   "metadata": {
    "ExecuteTime": {
     "end_time": "2020-04-17T06:51:35.555412Z",
     "start_time": "2020-04-17T06:51:34.648220Z"
    },
    "colab": {},
    "colab_type": "code",
    "id": "0tA3J5mA1cQ0"
   },
   "outputs": [
    {
     "data": {
      "image/png": "[encoded data removed]",
      "text/plain": [
       "<Figure size 720x720 with 1 Axes>"
      ]
     },
     "metadata": {},
     "output_type": "display_data"
    }
   ],
   "source": [
    "sns.set_style('darkgrid')\n",
    "plt.figure(figsize=(10,10))\n",
    "xaxis = np.linspace(-3*pi,3*pi,100)\n",
    "yaxis = np.sin(xaxis)\n",
    "plt.plot(xaxis,yaxis)\n",
    "plt.title(\"Sine Wave\")\n",
    "plt.xlabel('Time')\n",
    "plt.ylabel('Amplitude = sin(time)')\n",
    "plt.show()"
   ]
  },
  {
   "cell_type": "markdown",
   "metadata": {
    "colab_type": "text",
    "id": "6KV7RqMm1d8P"
   },
   "source": [
    "Plot $\\sin(x)$ and its spectrum, $\\cos(x)$ and its spectrum in a single plot, in the domain $[-2\\pi,2\\pi]$. Label the plot appropriately."
   ]
  },
  {
   "cell_type": "code",
   "execution_count": 56,
   "metadata": {
    "ExecuteTime": {
     "end_time": "2020-04-17T06:52:46.515988Z",
     "start_time": "2020-04-17T06:52:46.508988Z"
    },
    "colab": {},
    "colab_type": "code",
    "id": "-OJuY0HO12Oo"
   },
   "outputs": [],
   "source": [
    "xxx = np.linspace(-2*pi,2*pi,50)\n",
    "y1 = np.sin(xxx)\n",
    "y2 = np.cos(xxx)"
   ]
  },
  {
   "cell_type": "code",
   "execution_count": 57,
   "metadata": {
    "ExecuteTime": {
     "end_time": "2020-04-17T13:16:41.706077Z",
     "start_time": "2020-04-17T13:16:37.758835Z"
    }
   },
   "outputs": [],
   "source": [
    "def delta(n):\n",
    "    if n == 0 :\n",
    "        return 1\n",
    "    else:\n",
    "        return 0"
   ]
  },
  {
   "cell_type": "code",
   "execution_count": 60,
   "metadata": {
    "ExecuteTime": {
     "end_time": "2020-04-17T13:20:43.084666Z",
     "start_time": "2020-04-17T13:20:42.959015Z"
    }
   },
   "outputs": [],
   "source": [
    "sd = [];cd = []\n",
    "for i in range(-7,7):\n",
    "    s = delta(i-1) - (delta(i+1)/2)\n",
    "    sd.append(s)\n",
    "    c = delta(i+1) - (delta(i-1)/2)\n",
    "    cd.append(c)"
   ]
  },
  {
   "cell_type": "code",
   "execution_count": 65,
   "metadata": {
    "ExecuteTime": {
     "end_time": "2020-04-17T13:25:16.160476Z",
     "start_time": "2020-04-17T13:25:15.300905Z"
    }
   },
   "outputs": [
    {
     "name": "stderr",
     "output_type": "stream",
     "text": [
      "C:\\Users\\Axsteen\\Anaconda3\\lib\\site-packages\\ipykernel_launcher.py:2: UserWarning: In Matplotlib 3.3 individual lines on a stem plot will be added as a LineCollection instead of individual lines. This significantly improves the performance of a stem plot. To remove this warning and switch to the new behaviour, set the \"use_line_collection\" keyword argument to True.\n",
      "  \n"
     ]
    },
    {
     "data": {
      "image/png": "[encoded data removed]",
      "text/plain": [
       "<Figure size 720x720 with 1 Axes>"
      ]
     },
     "metadata": {},
     "output_type": "display_data"
    }
   ],
   "source": [
    "plt.figure(figsize=(10,10))\n",
    "plt.stem(range(-7,7),sd)\n",
    "plt.title('Spectrum of Sin function')\n",
    "plt.xlabel('Frequency')\n",
    "plt.ylabel('Magnitude')\n",
    "plt.show()"
   ]
  },
  {
   "cell_type": "code",
   "execution_count": 66,
   "metadata": {
    "ExecuteTime": {
     "end_time": "2020-04-17T13:25:31.968941Z",
     "start_time": "2020-04-17T13:25:31.318778Z"
    }
   },
   "outputs": [
    {
     "name": "stderr",
     "output_type": "stream",
     "text": [
      "C:\\Users\\Axsteen\\Anaconda3\\lib\\site-packages\\ipykernel_launcher.py:2: UserWarning: In Matplotlib 3.3 individual lines on a stem plot will be added as a LineCollection instead of individual lines. This significantly improves the performance of a stem plot. To remove this warning and switch to the new behaviour, set the \"use_line_collection\" keyword argument to True.\n",
      "  \n"
     ]
    },
    {
     "data": {
      "image/png": "[encoded data removed]",
      "text/plain": [
       "<Figure size 720x720 with 1 Axes>"
      ]
     },
     "metadata": {},
     "output_type": "display_data"
    }
   ],
   "source": [
    "plt.figure(figsize=(10,10))\n",
    "plt.stem(range(-7,7),cd)\n",
    "plt.title('Spectrum of cos function')\n",
    "plt.xlabel('Frequency')\n",
    "plt.ylabel('Magnitude')\n",
    "plt.show()"
   ]
  },
  {
   "cell_type": "markdown",
   "metadata": {
    "colab_type": "text",
    "id": "1S6ZRm6B18ZF"
   },
   "source": [
    "## End of Part - 3\n",
    "---"
   ]
  },
  {
   "cell_type": "markdown",
   "metadata": {
    "colab_type": "text",
    "id": "MUucpzXBl096"
   },
   "source": [
    "Create a Github repository with the name ***SHALA2020*** and save this assignment there."
   ]
  }
 ],
 "metadata": {
  "colab": {
   "collapsed_sections": [],
   "name": "Copy of Assignment -1 - DS.ipynb",
   "provenance": [
    {
     "file_id": "1qCGe_9ohuuPWGLwKY6sQGnliRGmGix6q",
     "timestamp": 1587045993081
    }
   ]
  },
  "kernelspec": {
   "display_name": "Python 3",
   "language": "python",
   "name": "python3"
  },
  "language_info": {
   "codemirror_mode": {
    "name": "ipython",
    "version": 3
   },
   "file_extension": ".py",
   "mimetype": "text/x-python",
   "name": "python",
   "nbconvert_exporter": "python",
   "pygments_lexer": "ipython3",
   "version": "3.7.3"
  }
 },
 "nbformat": 4,
 "nbformat_minor": 1
}
