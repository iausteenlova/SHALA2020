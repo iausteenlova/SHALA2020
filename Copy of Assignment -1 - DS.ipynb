{
 "cells": [
  {
   "cell_type": "markdown",
   "metadata": {
    "colab_type": "text",
    "id": "hmr2U-GChnlR"
   },
   "source": [
    "\n",
    "# **Assignment - 1 : Getting Started**\n",
    "\n",
    "---\n",
    "\n",
    "This assignment will get you familiarized with python libraries required for ***data science*** and ***machine learning***. You will have to complete the code snippets and run them. "
   ]
  },
  {
   "cell_type": "markdown",
   "metadata": {
    "colab_type": "text",
    "id": "211pD45xEO0u"
   },
   "source": [
    "## **Note :**   Use only the methods and attributes of the ```numpy``` library. **Do not** hard-code them. Avoid loops as much as possible."
   ]
  },
  {
   "cell_type": "markdown",
   "metadata": {
    "colab_type": "text",
    "id": "O7v9C4mun3SQ"
   },
   "source": [
    "---\n",
    "## Part - 1\n",
    " In this part, you will work with the library ```numpy```. \n",
    "\n",
    "\n"
   ]
  },
  {
   "cell_type": "markdown",
   "metadata": {
    "colab_type": "text",
    "id": "846yDaXQwiMD"
   },
   "source": [
    "Import ```numpy``` with an alias name ```np```. Initialize two arrays $a$, $b$ of size $3 \\times 5$ with random values and print them. "
   ]
  },
  {
   "cell_type": "code",
   "execution_count": 2,
   "metadata": {
    "ExecuteTime": {
     "end_time": "2020-04-16T17:40:13.329371Z",
     "start_time": "2020-04-16T17:40:09.518816Z"
    },
    "colab": {},
    "colab_type": "code",
    "id": "_MyeCO3_o3oq"
   },
   "outputs": [],
   "source": [
    "import numpy as np"
   ]
  },
  {
   "cell_type": "markdown",
   "metadata": {
    "colab_type": "text",
    "id": "p7jtpYT4wiO6"
   },
   "source": [
    "Initialize and print two arrays $c$ and $d$ having the following properties:\n",
    "*   $c$ is a row vector with all non-negative integer values less than 100\n",
    "* $d$ is a square matrix of size 3 having all entries as 0.0"
   ]
  },
  {
   "cell_type": "code",
   "execution_count": 59,
   "metadata": {
    "colab": {
     "base_uri": "https://localhost:8080/",
     "height": 151
    },
    "colab_type": "code",
    "executionInfo": {
     "elapsed": 2535,
     "status": "ok",
     "timestamp": 1587045499277,
     "user": {
      "displayName": "Bro John Mark",
      "photoUrl": "",
      "userId": "08019861679024111431"
     },
     "user_tz": -330
    },
    "id": "a2lJdRf8x9f2",
    "outputId": "30f14bfa-fabc-4f75-e670-3da0948a62a2"
   },
   "outputs": [
    {
     "name": "stdout",
     "output_type": "stream",
     "text": [
      "[24 21  6 17 95  7  1 19 39 84  4 12  6 55 82 19 69 88 17 51 95  2 30 97\n",
      " 38 91 39 22 61 50 93 93 68 76 65 21 13 49 76 10 74 20 38 20 39 99 24 67\n",
      "  6 50 65 49 86 67 97 59 19 84 66 24  3 41 33 22 37 51 24 23 91  6 63 66\n",
      " 89 82 40 73 52 61 54 91 70 60 71  8 35  8  8 12 88 74 28 42 90 31 37 19\n",
      " 83 25 36 50]\n",
      "[[0. 0. 0.]\n",
      " [0. 0. 0.]\n",
      " [0. 0. 0.]]\n"
     ]
    }
   ],
   "source": [
    "c = np.random.randint(1,100,100)\n",
    "d = np.zeros((3,3))\n",
    "print(c)\n",
    "print(d)\n",
    "\n"
   ]
  },
  {
   "cell_type": "markdown",
   "metadata": {
    "colab_type": "text",
    "id": "qqgtSsa88Zmh"
   },
   "source": [
    "We have $e$ as following : ```e = [[1,2,3],[4,5,6],[7,8,9]]```. Change $e$ as a numpy array and print it."
   ]
  },
  {
   "cell_type": "code",
   "execution_count": 61,
   "metadata": {
    "colab": {
     "base_uri": "https://localhost:8080/",
     "height": 84
    },
    "colab_type": "code",
    "executionInfo": {
     "elapsed": 2202,
     "status": "ok",
     "timestamp": 1587045563659,
     "user": {
      "displayName": "Bro John Mark",
      "photoUrl": "",
      "userId": "08019861679024111431"
     },
     "user_tz": -330
    },
    "id": "Krhm4bVE7RET",
    "outputId": "5a77c0ff-1ec8-4763-f888-8e3c7882c382"
   },
   "outputs": [
    {
     "name": "stdout",
     "output_type": "stream",
     "text": [
      "<class 'numpy.ndarray'>\n",
      "[[1 2 3]\n",
      " [4 5 6]\n",
      " [7 8 9]]\n"
     ]
    }
   ],
   "source": [
    "e = [[1,2,3],[4,5,6],[7,8,9]]\n",
    "e = np.array(e)\n",
    "print(type(e))\n",
    "print(e)"
   ]
  },
  {
   "cell_type": "markdown",
   "metadata": {
    "colab_type": "text",
    "id": "1qTikI0foam9"
   },
   "source": [
    "$f$ and $g$ are two square matrices of size 5 such that all the entries of $f$ are 1 and $g$ is an identity matrix. Initialize them and print them"
   ]
  },
  {
   "cell_type": "code",
   "execution_count": 62,
   "metadata": {
    "colab": {
     "base_uri": "https://localhost:8080/",
     "height": 185
    },
    "colab_type": "code",
    "executionInfo": {
     "elapsed": 7426,
     "status": "ok",
     "timestamp": 1587045625884,
     "user": {
      "displayName": "Bro John Mark",
      "photoUrl": "",
      "userId": "08019861679024111431"
     },
     "user_tz": -330
    },
    "id": "DvaLckI49aBV",
    "outputId": "a4cbde00-4065-4c6a-cdff-3cd79d9aef4f"
   },
   "outputs": [
    {
     "name": "stdout",
     "output_type": "stream",
     "text": [
      "[[1. 1. 1. 1. 1.]\n",
      " [1. 1. 1. 1. 1.]\n",
      " [1. 1. 1. 1. 1.]\n",
      " [1. 1. 1. 1. 1.]\n",
      " [1. 1. 1. 1. 1.]]\n",
      "[[1. 0. 0. 0. 0.]\n",
      " [0. 1. 0. 0. 0.]\n",
      " [0. 0. 1. 0. 0.]\n",
      " [0. 0. 0. 1. 0.]\n",
      " [0. 0. 0. 0. 1.]]\n"
     ]
    }
   ],
   "source": [
    "f = np.ones((5,5))\n",
    "g = np.identity(5)\n",
    "print(f)\n",
    "print(g)"
   ]
  },
  {
   "cell_type": "markdown",
   "metadata": {
    "colab_type": "text",
    "id": "gcBZAZibAKcg"
   },
   "source": [
    "Reshape $c$ into a $10 \\times 10$ matrix and name it $h$. Now flatten $h$, call it $c^\\prime$ and print **YES** when the shapes of $c$ and $c^\\prime$ are same. Otherwise print **NO**."
   ]
  },
  {
   "cell_type": "code",
   "execution_count": 0,
   "metadata": {
    "colab": {},
    "colab_type": "code",
    "id": "I71vtO9bA9Pi"
   },
   "outputs": [],
   "source": [
    "h = c.reshape(10,10)\n",
    "cdash = h.flatten()"
   ]
  },
  {
   "cell_type": "code",
   "execution_count": 72,
   "metadata": {
    "colab": {
     "base_uri": "https://localhost:8080/",
     "height": 34
    },
    "colab_type": "code",
    "executionInfo": {
     "elapsed": 1682,
     "status": "ok",
     "timestamp": 1587045921968,
     "user": {
      "displayName": "Bro John Mark",
      "photoUrl": "",
      "userId": "08019861679024111431"
     },
     "user_tz": -330
    },
    "id": "bzVtrRIATBTB",
    "outputId": "f7b61cb5-c737-42d8-a7c4-c495514e7fc0"
   },
   "outputs": [
    {
     "data": {
      "text/plain": [
       "'No'"
      ]
     },
     "execution_count": 72,
     "metadata": {
      "tags": []
     },
     "output_type": "execute_result"
    }
   ],
   "source": [
    "yn = bool(np.shape(h) == np.shape(cdash))\n",
    "x = lambda x : 'Yes' if x == True else \"No\"\n",
    "x(yn)"
   ]
  },
  {
   "cell_type": "markdown",
   "metadata": {
    "colab_type": "text",
    "id": "8FrecDPiA-Bv"
   },
   "source": [
    "Let $A$ denote a randomly initialized three dimensional matrix of shape (2,10,5). Transpose $A$, call it $A^\\prime$, such that its shape is (5,2,10) and print it."
   ]
  },
  {
   "cell_type": "code",
   "execution_count": 3,
   "metadata": {
    "ExecuteTime": {
     "end_time": "2020-04-16T17:40:18.649109Z",
     "start_time": "2020-04-16T17:40:18.538282Z"
    },
    "colab": {
     "base_uri": "https://localhost:8080/",
     "height": 34
    },
    "colab_type": "code",
    "executionInfo": {
     "elapsed": 1316,
     "status": "ok",
     "timestamp": 1587045968155,
     "user": {
      "displayName": "Bro John Mark",
      "photoUrl": "",
      "userId": "08019861679024111431"
     },
     "user_tz": -330
    },
    "id": "VbOKqSm6Bkaq",
    "outputId": "7ad745a6-4164-449b-ed3e-cca478ea4172"
   },
   "outputs": [
    {
     "data": {
      "text/plain": [
       "(2, 10, 5)"
      ]
     },
     "execution_count": 3,
     "metadata": {},
     "output_type": "execute_result"
    }
   ],
   "source": [
    "A = np.random.rand(2,10,5)\n",
    "type(A);np.shape(A)"
   ]
  },
  {
   "cell_type": "code",
   "execution_count": 20,
   "metadata": {
    "ExecuteTime": {
     "end_time": "2020-04-16T17:57:09.781057Z",
     "start_time": "2020-04-16T17:57:09.669055Z"
    }
   },
   "outputs": [
    {
     "name": "stdout",
     "output_type": "stream",
     "text": [
      "[[[0.25632356 0.62424955 0.17003947 0.57269854 0.07330854 0.95552057\n",
      "   0.37321799 0.72956417 0.79791107 0.60369397]\n",
      "  [0.80295669 0.48885102 0.64524563 0.65720107 0.42345005 0.10688081\n",
      "   0.64335367 0.6573282  0.15080282 0.08336431]]\n",
      "\n",
      " [[0.9817216  0.22447908 0.62228229 0.35596263 0.83463655 0.20341156\n",
      "   0.73202517 0.81344682 0.25857573 0.08238927]\n",
      "  [0.33588377 0.27398995 0.72621989 0.9777173  0.90952117 0.23984653\n",
      "   0.77014925 0.35910441 0.81199821 0.0160184 ]]\n",
      "\n",
      " [[0.75393186 0.36383291 0.37920064 0.18601637 0.88512057 0.53501175\n",
      "   0.68367224 0.24118387 0.96429802 0.24948997]\n",
      "  [0.77189347 0.64672878 0.06390342 0.41506595 0.74776947 0.086137\n",
      "   0.53130075 0.21640872 0.76785888 0.15559836]]\n",
      "\n",
      " [[0.21585349 0.33993558 0.99456081 0.31860534 0.82236094 0.74453472\n",
      "   0.17549225 0.99010346 0.04398239 0.15136151]\n",
      "  [0.11257582 0.44481705 0.30468229 0.67211142 0.0521678  0.54906682\n",
      "   0.7917553  0.43183617 0.11001343 0.36654843]]\n",
      "\n",
      " [[0.16430055 0.30453067 0.06225817 0.0175748  0.03889635 0.71392806\n",
      "   0.14033332 0.75969606 0.84723768 0.31758724]\n",
      "  [0.5455802  0.03348162 0.74085011 0.67641765 0.5470242  0.57949024\n",
      "   0.39402916 0.87496299 0.37789511 0.20374105]]]\n"
     ]
    }
   ],
   "source": [
    "Ad = np.transpose(A,(2,0,1))\n",
    "np.shape(Ad)\n",
    "print(Ad)"
   ]
  },
  {
   "cell_type": "markdown",
   "metadata": {
    "colab_type": "text",
    "id": "xR2zd-nkCani"
   },
   "source": [
    "You have a matrix $X$ of size (10,5) filled with random values. Print the following :\n",
    "* Minimum value and index where it occured, for each column\n",
    "* Maximum value and the index where it occured, for each column\n",
    "* Minimum value and index where it occured, for each row\n",
    "* Maximum value and index where it occured, for each row\n",
    "* Minimum value and index where it occured, for the entire matrix\n",
    "* Maximum value and index where it occured, for the entire matrix"
   ]
  },
  {
   "cell_type": "code",
   "execution_count": 42,
   "metadata": {
    "ExecuteTime": {
     "end_time": "2020-04-16T18:15:59.984792Z",
     "start_time": "2020-04-16T18:15:59.956820Z"
    },
    "colab": {},
    "colab_type": "code",
    "id": "FR2Wd4fWD_Og"
   },
   "outputs": [
    {
     "data": {
      "text/plain": [
       "array([[45, 48, 65, 68, 68],\n",
       "       [10, 84, 22, 37, 88],\n",
       "       [71, 89, 89, 13, 59],\n",
       "       [66, 40, 88, 47, 89],\n",
       "       [82, 38, 26, 78, 73],\n",
       "       [10, 21, 81, 70, 80],\n",
       "       [48, 65, 83, 89, 50],\n",
       "       [30, 20, 20, 15, 40],\n",
       "       [33, 66, 10, 58, 33],\n",
       "       [32, 75, 24, 36, 76]])"
      ]
     },
     "execution_count": 42,
     "metadata": {},
     "output_type": "execute_result"
    }
   ],
   "source": [
    "np.random.seed(0)\n",
    "X = np.random.randint(1,100,(10,5))\n",
    "X"
   ]
  },
  {
   "cell_type": "code",
   "execution_count": 45,
   "metadata": {
    "ExecuteTime": {
     "end_time": "2020-04-16T18:16:47.594427Z",
     "start_time": "2020-04-16T18:16:47.583452Z"
    }
   },
   "outputs": [
    {
     "data": {
      "text/plain": [
       "(array([1, 2, 5, 7, 8, 8], dtype=int64),\n",
       " array([0, 3, 0, 1, 2, 4], dtype=int64))"
      ]
     },
     "execution_count": 45,
     "metadata": {},
     "output_type": "execute_result"
    }
   ],
   "source": [
    "#minimum value in each column\n",
    "minc = np.amin(X,axis=0)\n",
    "iminc = np.where(X ==np.amin(X,axis=0))\n",
    "iminc"
   ]
  },
  {
   "cell_type": "code",
   "execution_count": 44,
   "metadata": {
    "ExecuteTime": {
     "end_time": "2020-04-16T18:16:29.434055Z",
     "start_time": "2020-04-16T18:16:29.054802Z"
    }
   },
   "outputs": [
    {
     "data": {
      "text/plain": [
       "[(1, 0), (2, 3), (5, 0), (7, 1), (8, 2), (8, 4)]"
      ]
     },
     "execution_count": 44,
     "metadata": {},
     "output_type": "execute_result"
    }
   ],
   "source": [
    "list(zip(iminc[0],iminc[1]))"
   ]
  },
  {
   "cell_type": "markdown",
   "metadata": {
    "colab_type": "text",
    "id": "YpjW2ypkEGtS"
   },
   "source": [
    "Find and print the following for the matrix X: \n",
    "* Mean of each row and column\n",
    "* Standard deviation of each row and column\n",
    "* Mean of the entire matrix\n",
    "* Standard deviation of entire matrix"
   ]
  },
  {
   "cell_type": "code",
   "execution_count": null,
   "metadata": {},
   "outputs": [],
   "source": []
  },
  {
   "cell_type": "code",
   "execution_count": null,
   "metadata": {
    "colab": {},
    "colab_type": "code",
    "id": "gMdm2pw0GWjf"
   },
   "outputs": [],
   "source": []
  },
  {
   "cell_type": "markdown",
   "metadata": {
    "colab_type": "text",
    "id": "7dw7W8HOGXKA"
   },
   "source": [
    "Let $Y$ denote a square matrix of size 10 with random values. Print the following:\n",
    "* Determinant\n",
    "* Rank of the matrix\n",
    "* Diagonal Elements\n",
    "* Trace\n",
    "* Eigen values\n",
    "* Matrices obtained after Singular Value Decomposition\n",
    "* Inverse if exists, otherwise Pseudo-Inverse\n",
    "* Multiplication $Y$ with $X$\n",
    "* Element-wise multiplication of $Y$ and its inverse(or pseudo-inverse)"
   ]
  },
  {
   "cell_type": "code",
   "execution_count": 0,
   "metadata": {
    "colab": {},
    "colab_type": "code",
    "id": "Tswbn9hgL7yi"
   },
   "outputs": [],
   "source": [
    "np.random.seed(3)\n",
    "Y = np.random.rand(10,10)\n",
    "\n",
    "\n"
   ]
  },
  {
   "cell_type": "markdown",
   "metadata": {
    "colab_type": "text",
    "id": "Qne3RnfOL6-4"
   },
   "source": [
    "## End of Part - 1\n",
    " --- --- ---"
   ]
  },
  {
   "cell_type": "markdown",
   "metadata": {
    "colab_type": "text",
    "id": "LA-m4UYkMPTe"
   },
   "source": [
    "## Part - 2\n",
    "---\n",
    "In this part, you will be working with the library ```pandas```. Import this library with an alias name ```pd```."
   ]
  },
  {
   "cell_type": "code",
   "execution_count": 0,
   "metadata": {
    "colab": {},
    "colab_type": "code",
    "id": "i8z7TpnZSIms"
   },
   "outputs": [],
   "source": [
    "# Initial imports\n",
    "import numpy as np\n",
    "import matplotlib.pyplot as plt\n",
    "import pandas as pd"
   ]
  },
  {
   "cell_type": "markdown",
   "metadata": {
    "colab_type": "text",
    "id": "2v-HkHnyuQ3X"
   },
   "source": [
    "Download dataset from: http://biostat.mc.vanderbilt.edu/wiki/pub/Main/DataSets/titanic3.csv\n",
    "Read the data and display the first 5 rows"
   ]
  },
  {
   "cell_type": "code",
   "execution_count": 2,
   "metadata": {
    "colab": {
     "base_uri": "https://localhost:8080/",
     "height": 195
    },
    "colab_type": "code",
    "executionInfo": {
     "elapsed": 3201,
     "status": "ok",
     "timestamp": 1587042185846,
     "user": {
      "displayName": "Bro John Mark",
      "photoUrl": "",
      "userId": "08019861679024111431"
     },
     "user_tz": -330
    },
    "id": "LinX5ywNTUIm",
    "outputId": "9e39885c-ac25-42e6-aa1e-4e579a5d870c"
   },
   "outputs": [
    {
     "data": {
      "text/html": [
       "<div>\n",
       "<style scoped>\n",
       "    .dataframe tbody tr th:only-of-type {\n",
       "        vertical-align: middle;\n",
       "    }\n",
       "\n",
       "    .dataframe tbody tr th {\n",
       "        vertical-align: top;\n",
       "    }\n",
       "\n",
       "    .dataframe thead th {\n",
       "        text-align: right;\n",
       "    }\n",
       "</style>\n",
       "<table border=\"1\" class=\"dataframe\">\n",
       "  <thead>\n",
       "    <tr style=\"text-align: right;\">\n",
       "      <th></th>\n",
       "      <th>pclass</th>\n",
       "      <th>survived</th>\n",
       "      <th>name</th>\n",
       "      <th>sex</th>\n",
       "      <th>age</th>\n",
       "      <th>sibsp</th>\n",
       "      <th>parch</th>\n",
       "      <th>ticket</th>\n",
       "      <th>fare</th>\n",
       "      <th>cabin</th>\n",
       "      <th>embarked</th>\n",
       "      <th>boat</th>\n",
       "      <th>body</th>\n",
       "      <th>home.dest</th>\n",
       "    </tr>\n",
       "  </thead>\n",
       "  <tbody>\n",
       "    <tr>\n",
       "      <th>0</th>\n",
       "      <td>1</td>\n",
       "      <td>1</td>\n",
       "      <td>Allen, Miss. Elisabeth Walton</td>\n",
       "      <td>female</td>\n",
       "      <td>29.00</td>\n",
       "      <td>0</td>\n",
       "      <td>0</td>\n",
       "      <td>24160</td>\n",
       "      <td>211.3375</td>\n",
       "      <td>B5</td>\n",
       "      <td>S</td>\n",
       "      <td>2</td>\n",
       "      <td>NaN</td>\n",
       "      <td>St Louis, MO</td>\n",
       "    </tr>\n",
       "    <tr>\n",
       "      <th>1</th>\n",
       "      <td>1</td>\n",
       "      <td>1</td>\n",
       "      <td>Allison, Master. Hudson Trevor</td>\n",
       "      <td>male</td>\n",
       "      <td>0.92</td>\n",
       "      <td>1</td>\n",
       "      <td>2</td>\n",
       "      <td>113781</td>\n",
       "      <td>151.5500</td>\n",
       "      <td>C22 C26</td>\n",
       "      <td>S</td>\n",
       "      <td>11</td>\n",
       "      <td>NaN</td>\n",
       "      <td>Montreal, PQ / Chesterville, ON</td>\n",
       "    </tr>\n",
       "    <tr>\n",
       "      <th>2</th>\n",
       "      <td>1</td>\n",
       "      <td>0</td>\n",
       "      <td>Allison, Miss. Helen Loraine</td>\n",
       "      <td>female</td>\n",
       "      <td>2.00</td>\n",
       "      <td>1</td>\n",
       "      <td>2</td>\n",
       "      <td>113781</td>\n",
       "      <td>151.5500</td>\n",
       "      <td>C22 C26</td>\n",
       "      <td>S</td>\n",
       "      <td>NaN</td>\n",
       "      <td>NaN</td>\n",
       "      <td>Montreal, PQ / Chesterville, ON</td>\n",
       "    </tr>\n",
       "    <tr>\n",
       "      <th>3</th>\n",
       "      <td>1</td>\n",
       "      <td>0</td>\n",
       "      <td>Allison, Mr. Hudson Joshua Creighton</td>\n",
       "      <td>male</td>\n",
       "      <td>30.00</td>\n",
       "      <td>1</td>\n",
       "      <td>2</td>\n",
       "      <td>113781</td>\n",
       "      <td>151.5500</td>\n",
       "      <td>C22 C26</td>\n",
       "      <td>S</td>\n",
       "      <td>NaN</td>\n",
       "      <td>135.0</td>\n",
       "      <td>Montreal, PQ / Chesterville, ON</td>\n",
       "    </tr>\n",
       "    <tr>\n",
       "      <th>4</th>\n",
       "      <td>1</td>\n",
       "      <td>0</td>\n",
       "      <td>Allison, Mrs. Hudson J C (Bessie Waldo Daniels)</td>\n",
       "      <td>female</td>\n",
       "      <td>25.00</td>\n",
       "      <td>1</td>\n",
       "      <td>2</td>\n",
       "      <td>113781</td>\n",
       "      <td>151.5500</td>\n",
       "      <td>C22 C26</td>\n",
       "      <td>S</td>\n",
       "      <td>NaN</td>\n",
       "      <td>NaN</td>\n",
       "      <td>Montreal, PQ / Chesterville, ON</td>\n",
       "    </tr>\n",
       "  </tbody>\n",
       "</table>\n",
       "</div>"
      ],
      "text/plain": [
       "   pclass  survived  ...   body                        home.dest\n",
       "0       1         1  ...    NaN                     St Louis, MO\n",
       "1       1         1  ...    NaN  Montreal, PQ / Chesterville, ON\n",
       "2       1         0  ...    NaN  Montreal, PQ / Chesterville, ON\n",
       "3       1         0  ...  135.0  Montreal, PQ / Chesterville, ON\n",
       "4       1         0  ...    NaN  Montreal, PQ / Chesterville, ON\n",
       "\n",
       "[5 rows x 14 columns]"
      ]
     },
     "execution_count": 2,
     "metadata": {
      "tags": []
     },
     "output_type": "execute_result"
    }
   ],
   "source": [
    "#Download dataset from: http://biostat.mc.vanderbilt.edu/wiki/pub/Main/DataSets/titanic3.csv\n",
    "\n",
    "file_url = \"http://biostat.mc.vanderbilt.edu/wiki/pub/Main/DataSets/titanic3.csv\"\n",
    "\n",
    "data = pd.read_csv(file_url)\n",
    "data.head()"
   ]
  },
  {
   "cell_type": "markdown",
   "metadata": {
    "colab_type": "text",
    "id": "vTk1-mF5WYFN"
   },
   "source": [
    "### Preprocessing of the Dataset"
   ]
  },
  {
   "cell_type": "markdown",
   "metadata": {
    "colab_type": "text",
    "id": "kx9UrI9WWt17"
   },
   "source": [
    "\n",
    "\n",
    "---\n",
    "\n",
    "\n",
    "**1. Convert the categorical values of columns 'sex', 'embarked', 'pclass' into dummy values and add them into titanic_data_new DataFrame**\n",
    "\n",
    "\n",
    "\n",
    "\n",
    "---\n",
    "\n"
   ]
  },
  {
   "cell_type": "code",
   "execution_count": 43,
   "metadata": {
    "colab": {
     "base_uri": "https://localhost:8080/",
     "height": 190
    },
    "colab_type": "code",
    "executionInfo": {
     "elapsed": 1921,
     "status": "ok",
     "timestamp": 1587044440495,
     "user": {
      "displayName": "Bro John Mark",
      "photoUrl": "",
      "userId": "08019861679024111431"
     },
     "user_tz": -330
    },
    "id": "AwDh9njbZ0QU",
    "outputId": "64b6383c-1660-4e72-92a0-4bf825789554"
   },
   "outputs": [
    {
     "data": {
      "text/html": [
       "<div>\n",
       "<style scoped>\n",
       "    .dataframe tbody tr th:only-of-type {\n",
       "        vertical-align: middle;\n",
       "    }\n",
       "\n",
       "    .dataframe tbody tr th {\n",
       "        vertical-align: top;\n",
       "    }\n",
       "\n",
       "    .dataframe thead th {\n",
       "        text-align: right;\n",
       "    }\n",
       "</style>\n",
       "<table border=\"1\" class=\"dataframe\">\n",
       "  <thead>\n",
       "    <tr style=\"text-align: right;\">\n",
       "      <th></th>\n",
       "      <th>survived</th>\n",
       "      <th>name</th>\n",
       "      <th>age</th>\n",
       "      <th>sibsp</th>\n",
       "      <th>parch</th>\n",
       "      <th>ticket</th>\n",
       "      <th>fare</th>\n",
       "      <th>cabin</th>\n",
       "      <th>boat</th>\n",
       "      <th>body</th>\n",
       "      <th>home.dest</th>\n",
       "      <th>sex_female</th>\n",
       "      <th>sex_male</th>\n",
       "      <th>embarked_C</th>\n",
       "      <th>embarked_Q</th>\n",
       "      <th>embarked_S</th>\n",
       "      <th>pclass_1</th>\n",
       "      <th>pclass_2</th>\n",
       "      <th>pclass_3</th>\n",
       "    </tr>\n",
       "  </thead>\n",
       "  <tbody>\n",
       "    <tr>\n",
       "      <th>0</th>\n",
       "      <td>1</td>\n",
       "      <td>Allen, Miss. Elisabeth Walton</td>\n",
       "      <td>29.00</td>\n",
       "      <td>0</td>\n",
       "      <td>0</td>\n",
       "      <td>24160</td>\n",
       "      <td>211.3375</td>\n",
       "      <td>B5</td>\n",
       "      <td>2</td>\n",
       "      <td>NaN</td>\n",
       "      <td>St Louis, MO</td>\n",
       "      <td>1</td>\n",
       "      <td>0</td>\n",
       "      <td>0</td>\n",
       "      <td>0</td>\n",
       "      <td>1</td>\n",
       "      <td>1</td>\n",
       "      <td>0</td>\n",
       "      <td>0</td>\n",
       "    </tr>\n",
       "    <tr>\n",
       "      <th>1</th>\n",
       "      <td>1</td>\n",
       "      <td>Allison, Master. Hudson Trevor</td>\n",
       "      <td>0.92</td>\n",
       "      <td>1</td>\n",
       "      <td>2</td>\n",
       "      <td>113781</td>\n",
       "      <td>151.5500</td>\n",
       "      <td>C22 C26</td>\n",
       "      <td>11</td>\n",
       "      <td>NaN</td>\n",
       "      <td>Montreal, PQ / Chesterville, ON</td>\n",
       "      <td>0</td>\n",
       "      <td>1</td>\n",
       "      <td>0</td>\n",
       "      <td>0</td>\n",
       "      <td>1</td>\n",
       "      <td>1</td>\n",
       "      <td>0</td>\n",
       "      <td>0</td>\n",
       "    </tr>\n",
       "  </tbody>\n",
       "</table>\n",
       "</div>"
      ],
      "text/plain": [
       "   survived                            name  ...  pclass_2  pclass_3\n",
       "0         1   Allen, Miss. Elisabeth Walton  ...         0         0\n",
       "1         1  Allison, Master. Hudson Trevor  ...         0         0\n",
       "\n",
       "[2 rows x 19 columns]"
      ]
     },
     "execution_count": 43,
     "metadata": {
      "tags": []
     },
     "output_type": "execute_result"
    }
   ],
   "source": [
    "data2 = pd.get_dummies(data=data, columns=['sex','embarked','pclass'])\n",
    "data2.head(2)"
   ]
  },
  {
   "cell_type": "markdown",
   "metadata": {
    "colab_type": "text",
    "id": "Z9bxOfzDbY-n"
   },
   "source": [
    "\n",
    "\n",
    "---\n",
    "\n",
    "\n",
    "**2. Fill the missing data in Age and Fare columns with the mean value of the respected column then add these columns to titanic_data_new**\n",
    "\n",
    "\n",
    "---\n",
    "\n"
   ]
  },
  {
   "cell_type": "code",
   "execution_count": 44,
   "metadata": {
    "colab": {
     "base_uri": "https://localhost:8080/",
     "height": 50
    },
    "colab_type": "code",
    "executionInfo": {
     "elapsed": 2099,
     "status": "ok",
     "timestamp": 1587044449638,
     "user": {
      "displayName": "Bro John Mark",
      "photoUrl": "",
      "userId": "08019861679024111431"
     },
     "user_tz": -330
    },
    "id": "DNx7Pr0ehhAs",
    "outputId": "56be4e29-9515-42b6-fe70-e4ff3bd51eec"
   },
   "outputs": [
    {
     "name": "stdout",
     "output_type": "stream",
     "text": [
      "average of age : 29.88\n",
      "average of age : 33.2955\n"
     ]
    }
   ],
   "source": [
    "data2.age = data2.age.fillna(round(data2.age.mean(),2))\n",
    "data2.fare = data2.fare.fillna(round(data2.fare.mean(),4))\n",
    "print(f\"average of age : {round(data2.age.mean(),2)}\")\n",
    "print(f\"average of age : {round(data2.fare.mean(),4)}\")"
   ]
  },
  {
   "cell_type": "markdown",
   "metadata": {
    "colab_type": "text",
    "id": "SlRzKfhxkd1M"
   },
   "source": [
    "###Normalization\n",
    "\n",
    "\n",
    "---\n",
    "\n",
    "\n",
    "\n",
    "1. Normalize the columns which have numerical data\n",
    "\n",
    "\n",
    "\n",
    "---\n",
    "\n"
   ]
  },
  {
   "cell_type": "code",
   "execution_count": 37,
   "metadata": {
    "colab": {
     "base_uri": "https://localhost:8080/",
     "height": 454
    },
    "colab_type": "code",
    "executionInfo": {
     "elapsed": 1177,
     "status": "ok",
     "timestamp": 1587043977642,
     "user": {
      "displayName": "Bro John Mark",
      "photoUrl": "",
      "userId": "08019861679024111431"
     },
     "user_tz": -330
    },
    "id": "lzhzX10KLn_q",
    "outputId": "9da38d60-be47-4927-bb20-7435dc8ed286"
   },
   "outputs": [
    {
     "name": "stdout",
     "output_type": "stream",
     "text": [
      "<class 'pandas.core.frame.DataFrame'>\n",
      "RangeIndex: 1309 entries, 0 to 1308\n",
      "Data columns (total 19 columns):\n",
      " #   Column      Non-Null Count  Dtype  \n",
      "---  ------      --------------  -----  \n",
      " 0   survived    1309 non-null   int64  \n",
      " 1   name        1309 non-null   object \n",
      " 2   age         1309 non-null   float64\n",
      " 3   sibsp       1309 non-null   int64  \n",
      " 4   parch       1309 non-null   int64  \n",
      " 5   ticket      1309 non-null   object \n",
      " 6   fare        1309 non-null   float64\n",
      " 7   cabin       295 non-null    object \n",
      " 8   boat        486 non-null    object \n",
      " 9   body        121 non-null    float64\n",
      " 10  home.dest   745 non-null    object \n",
      " 11  sex_female  1309 non-null   uint8  \n",
      " 12  sex_male    1309 non-null   uint8  \n",
      " 13  embarked_C  1309 non-null   uint8  \n",
      " 14  embarked_Q  1309 non-null   uint8  \n",
      " 15  embarked_S  1309 non-null   uint8  \n",
      " 16  pclass_1    1309 non-null   uint8  \n",
      " 17  pclass_2    1309 non-null   uint8  \n",
      " 18  pclass_3    1309 non-null   uint8  \n",
      "dtypes: float64(3), int64(3), object(5), uint8(8)\n",
      "memory usage: 122.8+ KB\n"
     ]
    }
   ],
   "source": [
    "data2.info()"
   ]
  },
  {
   "cell_type": "code",
   "execution_count": 0,
   "metadata": {
    "colab": {},
    "colab_type": "code",
    "id": "Y3hpu92TlM38"
   },
   "outputs": [],
   "source": [
    "from sklearn.preprocessing import MinMaxScaler # Importing minmax scaler to normalize data\n",
    "mMscale = MinMaxScaler() # initiating the minmax scaler\n",
    "age_scaled = mMscale.fit_transform(data2[['age']]) # fitting the age data into scaler and transforming and saved into age_scaled\n",
    "parch_scaled = mMscale.fit_transform(data2[['parch']])\n",
    "fare_scaled = mMscale.fit_transform(data2[['fare']])\n",
    "body_scaled = mMscale.fit_transform(data2[['body']])"
   ]
  },
  {
   "cell_type": "markdown",
   "metadata": {
    "colab_type": "text",
    "id": "wB9-5x83mFAO"
   },
   "source": [
    "\n",
    "\n",
    "---\n",
    "2. Drop the original age, fare columns\n",
    "3. Append the normalized columns to the titanic_data_new DataFrame.\n",
    "\n",
    "\n",
    "\n",
    "---\n",
    "\n"
   ]
  },
  {
   "cell_type": "code",
   "execution_count": 0,
   "metadata": {
    "colab": {},
    "colab_type": "code",
    "id": "Kb00kM0onQJy"
   },
   "outputs": [],
   "source": [
    "data3 = data2.drop(['age','parch','fare','body'],axis=1)"
   ]
  },
  {
   "cell_type": "code",
   "execution_count": 0,
   "metadata": {
    "colab": {},
    "colab_type": "code",
    "id": "SeGcFSOoOduF"
   },
   "outputs": [],
   "source": [
    "data3['age_scaled'] = age_scaled\n",
    "data3['parch_scaled'] = parch_scaled\n",
    "data3['fare_scaled'] = fare_scaled\n",
    "data3['body_scaled'] = body_scaled"
   ]
  },
  {
   "cell_type": "markdown",
   "metadata": {
    "colab_type": "text",
    "id": "uLxN3PozntKe"
   },
   "source": [
    "###Plotting\n",
    "1. plot the age against the ID(continuous)\n",
    "2. plot the fare against the ID(scatter)"
   ]
  },
  {
   "cell_type": "code",
   "execution_count": 56,
   "metadata": {
    "colab": {
     "base_uri": "https://localhost:8080/",
     "height": 623
    },
    "colab_type": "code",
    "executionInfo": {
     "elapsed": 4772,
     "status": "ok",
     "timestamp": 1587045426727,
     "user": {
      "displayName": "Bro John Mark",
      "photoUrl": "",
      "userId": "08019861679024111431"
     },
     "user_tz": -330
    },
    "id": "LdSfNEKYn_RO",
    "outputId": "1e981bc8-424d-4b58-9a2c-d9ff57d9bcf8"
   },
   "outputs": [
    {
     "data": {
      "text/plain": [
       "<matplotlib.collections.PathCollection at 0x7f69ecc6ac50>"
      ]
     },
     "execution_count": 56,
     "metadata": {
      "tags": []
     },
     "output_type": "execute_result"
    },
    {
     "data": {
      "image/png": "[encoded data removed]",
      "text/plain": [
       "<Figure size 1152x720 with 2 Axes>"
      ]
     },
     "metadata": {
      "needs_background": "light",
      "tags": []
     },
     "output_type": "display_data"
    }
   ],
   "source": [
    "plt.figure(figsize=(16,10))\n",
    "ax = plt.subplot(2,1,1)\n",
    "plt.xlabel('Id')\n",
    "plt.ylabel('Age')\n",
    "plt.plot(data3.index,data3.age_scaled)\n",
    "\n",
    "ax = plt.subplot(2,1,2)\n",
    "plt.xlabel('Id')\n",
    "plt.ylabel('fare')\n",
    "plt.scatter(data3.index,data3.fare_scaled)"
   ]
  },
  {
   "cell_type": "markdown",
   "metadata": {
    "colab_type": "text",
    "id": "LQr7y6eevTvy"
   },
   "source": [
    "## End of Part - 2\n",
    "---"
   ]
  },
  {
   "cell_type": "markdown",
   "metadata": {
    "colab_type": "text",
    "id": "TWhZcKvfvW2B"
   },
   "source": [
    "## Part - 3\n",
    "---"
   ]
  },
  {
   "cell_type": "markdown",
   "metadata": {
    "colab_type": "text",
    "id": "8bY4H9DszQ2S"
   },
   "source": [
    "In this part, you will work with the library ```matplotlib```. Import the ```pyplot``` from ```matplotlib``` with an alias name ```plt```."
   ]
  },
  {
   "cell_type": "code",
   "execution_count": 46,
   "metadata": {
    "ExecuteTime": {
     "end_time": "2020-04-16T18:21:53.107793Z",
     "start_time": "2020-04-16T18:21:45.575725Z"
    },
    "colab": {},
    "colab_type": "code",
    "id": "hPN6qctRzknT"
   },
   "outputs": [],
   "source": [
    "import matplotlib.pyplot as plt"
   ]
  },
  {
   "cell_type": "markdown",
   "metadata": {
    "colab_type": "text",
    "id": "fQ6KX_Aezlub"
   },
   "source": [
    "Plot the sine function with domain in $[-3\\pi,3\\pi]$. Label the axes appropriately. Add title $\\sin(x)$. Use latex formatting while adding the title. Set the plot size to (10,10)"
   ]
  },
  {
   "cell_type": "code",
   "execution_count": 47,
   "metadata": {
    "ExecuteTime": {
     "end_time": "2020-04-16T18:22:49.155527Z",
     "start_time": "2020-04-16T18:22:48.249707Z"
    },
    "colab": {},
    "colab_type": "code",
    "id": "0tA3J5mA1cQ0"
   },
   "outputs": [
    {
     "data": {
      "text/plain": [
       "<Figure size 720x720 with 0 Axes>"
      ]
     },
     "metadata": {},
     "output_type": "display_data"
    }
   ],
   "source": [
    "plt.figure(figsize=(10,10))\n",
    "plt.show()"
   ]
  },
  {
   "cell_type": "markdown",
   "metadata": {
    "colab_type": "text",
    "id": "6KV7RqMm1d8P"
   },
   "source": [
    "Plot $\\sin(x)$ and its spectrum, $\\cos(x)$ and its spectrum in a single plot, in the domain $[-2\\pi,2\\pi]$. Label the plot appropriately."
   ]
  },
  {
   "cell_type": "code",
   "execution_count": 0,
   "metadata": {
    "colab": {},
    "colab_type": "code",
    "id": "-OJuY0HO12Oo"
   },
   "outputs": [],
   "source": []
  },
  {
   "cell_type": "markdown",
   "metadata": {
    "colab_type": "text",
    "id": "1S6ZRm6B18ZF"
   },
   "source": [
    "## End of Part - 3\n",
    "---"
   ]
  },
  {
   "cell_type": "markdown",
   "metadata": {
    "colab_type": "text",
    "id": "MUucpzXBl096"
   },
   "source": [
    "Create a Github repository with the name ***SHALA2020*** and save this assignment there."
   ]
  }
 ],
 "metadata": {
  "colab": {
   "collapsed_sections": [],
   "name": "Copy of Assignment -1 - DS.ipynb",
   "provenance": [
    {
     "file_id": "1qCGe_9ohuuPWGLwKY6sQGnliRGmGix6q",
     "timestamp": 1587045993081
    }
   ]
  },
  "kernelspec": {
   "display_name": "Python 3",
   "language": "python",
   "name": "python3"
  },
  "language_info": {
   "codemirror_mode": {
    "name": "ipython",
    "version": 3
   },
   "file_extension": ".py",
   "mimetype": "text/x-python",
   "name": "python",
   "nbconvert_exporter": "python",
   "pygments_lexer": "ipython3",
   "version": "3.7.3"
  }
 },
 "nbformat": 4,
 "nbformat_minor": 1
}
